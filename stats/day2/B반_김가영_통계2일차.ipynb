{
 "cells": [
  {
   "cell_type": "markdown",
   "metadata": {},
   "source": [
    "# 과제 1"
   ]
  },
  {
   "cell_type": "code",
   "execution_count": 2,
   "metadata": {},
   "outputs": [
    {
     "name": "stdout",
     "output_type": "stream",
     "text": [
      "신뢰구간: 18.102,20.898\n"
     ]
    }
   ],
   "source": [
    "import pandas as pd\n",
    "from scipy import stats\n",
    "from scipy.stats import shapiro\n",
    "\n",
    "# 수작업\n",
    "x_ = np.mean([18,18,20,21,20,23,19,18,17,21,\n",
    "            22,20,20,21,20,19,19,18,17,19])\n",
    "s = 3.8\n",
    "z = stats.norm.ppf(0.05)\n",
    "n = 20\n",
    "\n",
    "lower = x_+z*(3.8/np.sqrt(20))\n",
    "upper = x_-z*(3.8/np.sqrt(20))\n",
    "print(\"신뢰구간: {0},{1}\".format(lower.round(3), upper.round(3)))"
   ]
  },
  {
   "cell_type": "code",
   "execution_count": 3,
   "metadata": {},
   "outputs": [
    {
     "name": "stdout",
     "output_type": "stream",
     "text": [
      "신뢰구간: [17.83],[21.17]\n"
     ]
    }
   ],
   "source": [
    "# 코딩\n",
    "df = pd.DataFrame({\"sample\" : [18,18,20,21,20,23,19,18,17,21,\n",
    "                              22,20,20,21,20,19,19,18,17,19]})\n",
    "lower,upper = stats.norm.interval(0.95, loc = np.mean(df), scale = 3.8/np.sqrt(20))\n",
    "print(\"신뢰구간: {0},{1}\".format(lower.round(2), upper.round(2)))"
   ]
  },
  {
   "cell_type": "markdown",
   "metadata": {},
   "source": [
    "# 과제 2"
   ]
  },
  {
   "cell_type": "code",
   "execution_count": 4,
   "metadata": {},
   "outputs": [
    {
     "name": "stdout",
     "output_type": "stream",
     "text": [
      "신뢰구간: [70.6],[72.4]\n"
     ]
    }
   ],
   "source": [
    "import numpy as np\n",
    "import pandas as pd\n",
    "from scipy import stats\n",
    "import scipy.stats\n",
    "from scipy.stats import shapiro\n",
    "\n",
    "# 코딩\n",
    "df = pd.DataFrame({\"sample\" : [73,71,74,69,70,73,70,68,75,72,\n",
    "                              70,72,73,70,70,72,71,70,75,72]})\n",
    "\n",
    "lower,upper = stats.t.interval(0.95,len(df)-1, loc=np.mean(df), scale=scipy.stats.sem(df)) \n",
    "# np.mean(df) == 71.50, scale(표준오차) -> scipy.stats.sem(df) == 1.933/sqrt(20) \n",
    "    # print(1.933/np.sqrt(20))\n",
    "    # print(scipy.stats.sem(df))\n",
    "print(\"신뢰구간: {0},{1}\".format(lower.round(2), upper.round(2)))"
   ]
  },
  {
   "cell_type": "markdown",
   "metadata": {},
   "source": [
    "# 과제 3"
   ]
  },
  {
   "cell_type": "code",
   "execution_count": 8,
   "metadata": {},
   "outputs": [
    {
     "name": "stdout",
     "output_type": "stream",
     "text": [
      "1-Sample t-test\n",
      "t 검정통계량 : [3.379]\n",
      "p-value : [0.008]\n",
      "t 임계값 : 2.262\n"
     ]
    }
   ],
   "source": [
    "import numpy as np\n",
    "import pandas as pd\n",
    "from scipy import stats\n",
    "from scipy.stats import shapiro\n",
    "\n",
    "#df 입력\n",
    "df = pd.DataFrame({\"sample\": [85.0,79.0,79.1,79.9,81.6,78.6,85.4,83.4,78.1,79.2]})\n",
    "\n",
    "# 정규성 검정\n",
    "shapiro(df)   # (0.8473219275474548, 0.053975414484739304)\n",
    "\n",
    "# 1-Sample t-test => t 검정통계량\n",
    "t_result = stats.ttest_1samp(df,78.0)\n",
    "\n",
    "# 1-Sample t-test의 t값 p값 저장 => p-value\n",
    "t,p = t_result.statistic.round(3), t_result.pvalue.round(3)\n",
    "\n",
    "# 유의수준\n",
    "a = 0.05\n",
    "\n",
    "# 임계값\n",
    "prop = stats.t.ppf(0.975,9).round(3)\n",
    "\n",
    "print(\"1-Sample t-test\")\n",
    "print(\"t 검정통계량 : {}\".format(t))\n",
    "print(\"p-value : {}\".format(p))\n",
    "print(\"t 임계값 : {}\".format(prop))"
   ]
  },
  {
   "cell_type": "code",
   "execution_count": null,
   "metadata": {},
   "outputs": [],
   "source": [
    "'''\n",
    "1. 가설수립\n",
    "  H0(귀무가설) : 개선 활동이 고객 만족도를 변화시켰다고 할 수 없다.\n",
    "  H1(대립가설) : 개선 활동이 고객 만족도를 변화시켰다고 할 수 있다.\n",
    "  \n",
    "2. 유의수준 : a = 0.05\n",
    "\n",
    "3. 검정통계량 : t = 3.379\n",
    "   p-value : p = 0.008\n",
    "\n",
    "4. p-value가 유의수준 a보다 더 작다. => 대립가설을 채택한다.\n",
    "\n",
    "5. 즉, 개선 활동이 고객 만족도를 변화시켰다고 할 수 있다.\n",
    "\n",
    "'''"
   ]
  }
 ],
 "metadata": {
  "kernelspec": {
   "display_name": "Python 3",
   "language": "python",
   "name": "python3"
  },
  "language_info": {
   "codemirror_mode": {
    "name": "ipython",
    "version": 3
   },
   "file_extension": ".py",
   "mimetype": "text/x-python",
   "name": "python",
   "nbconvert_exporter": "python",
   "pygments_lexer": "ipython3",
   "version": "3.7.4"
  }
 },
 "nbformat": 4,
 "nbformat_minor": 2
}
