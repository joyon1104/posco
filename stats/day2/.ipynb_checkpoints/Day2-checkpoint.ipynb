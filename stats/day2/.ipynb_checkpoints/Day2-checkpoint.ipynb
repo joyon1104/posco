{
 "cells": [
  {
   "cell_type": "markdown",
   "metadata": {},
   "source": [
    "# 이항분포"
   ]
  },
  {
   "cell_type": "code",
   "execution_count": 3,
   "metadata": {},
   "outputs": [],
   "source": [
    "import numpy as np\n",
    "from scipy import stats\n",
    "import scipy.stats\n",
    "import pandas as pd\n",
    "import statsmodels.api as sm\n",
    "import matplotlib.pyplot as plt\n",
    "import seaborn as sns\n",
    "from statsmodels.stats.proportion import proportions_ztest\n",
    "\n",
    "# matplotlib 음수 표시\n",
    "import matplotlib\n",
    "matplotlib.rc('axes', unicode_minus=False)"
   ]
  },
  {
   "cell_type": "markdown",
   "metadata": {},
   "source": [
    "## [연습]"
   ]
  },
  {
   "cell_type": "code",
   "execution_count": 8,
   "metadata": {},
   "outputs": [
    {
     "name": "stdout",
     "output_type": "stream",
     "text": [
      "P(X=0) = 0.216\n",
      "P(X=1) = 0.432\n",
      "P(X=2) = 0.288\n",
      "P(X=3) = 0.064\n"
     ]
    }
   ],
   "source": [
    "# 불량률 40%\n",
    "n=3\n",
    "for i in range(n+1):\n",
    "    # 이항분포\n",
    "    prob = stats.binom.pmf(k=i, n=n, p=0.4)\n",
    "    print(\"P(X={0}) = {1:.3f}\".format(i,prob))"
   ]
  },
  {
   "cell_type": "code",
   "execution_count": 9,
   "metadata": {},
   "outputs": [
    {
     "name": "stdout",
     "output_type": "stream",
     "text": [
      "P(X=0) = 0.064\n",
      "P(X=1) = 0.288\n",
      "P(X=2) = 0.432\n",
      "P(X=3) = 0.216\n"
     ]
    }
   ],
   "source": [
    "# 불량률 60%\n",
    "n=3\n",
    "for i in range(n+1):\n",
    "    # 이항분포\n",
    "    prob = stats.binom.pmf(k=i, n=n, p=0.6)\n",
    "    print(\"P(X={0}) = {1:.3f}\".format(i,prob))"
   ]
  },
  {
   "cell_type": "markdown",
   "metadata": {},
   "source": [
    "## [실습]"
   ]
  },
  {
   "cell_type": "code",
   "execution_count": 10,
   "metadata": {},
   "outputs": [
    {
     "name": "stdout",
     "output_type": "stream",
     "text": [
      "P(X=0) = 0.168\n",
      "P(X=1) = 0.360\n",
      "P(X=2) = 0.309\n",
      "P(X=3) = 0.132\n",
      "P(X=4) = 0.028\n",
      "P(X=5) = 0.002\n"
     ]
    }
   ],
   "source": [
    "n = 5\n",
    "for i in range(n+1):\n",
    "    # 이항분포\n",
    "    prob = stats.binom.pmf(k=i, n=n, p=0.3)\n",
    "    print(\"P(X={0}) = {1:.3f}\".format(i,prob))"
   ]
  },
  {
   "cell_type": "markdown",
   "metadata": {},
   "source": [
    "# 포아송 분포"
   ]
  },
  {
   "cell_type": "markdown",
   "metadata": {},
   "source": [
    "일정한 시간 또는 일정한 공간에서 발생하는 성공횟수에 대한 이산확률분포"
   ]
  },
  {
   "cell_type": "markdown",
   "metadata": {},
   "source": [
    "## [연습]"
   ]
  },
  {
   "cell_type": "code",
   "execution_count": 12,
   "metadata": {},
   "outputs": [
    {
     "name": "stdout",
     "output_type": "stream",
     "text": [
      "1분당 3번의 전화가 걸려올 확률: 18.0%\n"
     ]
    }
   ],
   "source": [
    "# 1분당 3번의 전화가 걸려올 확률\n",
    "mu = 2\n",
    "prob = stats.poisson.pmf(3,mu)\n",
    "print(\"1분당 {0}번의 전화가 걸려올 확률: {1:.1f}%\".format(3,prob*100))\n"
   ]
  },
  {
   "cell_type": "code",
   "execution_count": 17,
   "metadata": {},
   "outputs": [
    {
     "name": "stdout",
     "output_type": "stream",
     "text": [
      "1분당 2번 이하의 전화가 걸려올 확률: 67.7\n"
     ]
    }
   ],
   "source": [
    "# 1분당 최대 2번 이하 전화가 걸려올 확률\n",
    "cdf_prob = stats.poisson.cdf(2, mu)\n",
    "print(\"1분당 {0}번 이하의 전화가 걸려올 확률: {1:.1f}\".format(2,cdf_prob*100))"
   ]
  },
  {
   "cell_type": "code",
   "execution_count": 19,
   "metadata": {},
   "outputs": [
    {
     "name": "stdout",
     "output_type": "stream",
     "text": [
      "1분당 2번 이상의 전화가 걸려올 확률: 59.4\n"
     ]
    }
   ],
   "source": [
    "# 1분당 최대 2번 이상 전화가 걸려올 확률\n",
    "cdf_prob = stats.poisson.cdf(1, mu)\n",
    "print(\"1분당 {0}번 이상의 전화가 걸려올 확률: {1:.1f}\".format(2,100-cdf_prob*100)) # 100%에서 1번 이하 전화걸릴 확률을 빼줌."
   ]
  },
  {
   "cell_type": "markdown",
   "metadata": {},
   "source": [
    "## [실습]"
   ]
  },
  {
   "cell_type": "code",
   "execution_count": 24,
   "metadata": {},
   "outputs": [],
   "source": [
    "mu = 3"
   ]
  },
  {
   "cell_type": "code",
   "execution_count": 30,
   "metadata": {},
   "outputs": [
    {
     "name": "stdout",
     "output_type": "stream",
     "text": [
      "#1 0.224\n"
     ]
    }
   ],
   "source": [
    "#1\n",
    "prob = stats.poisson.pmf(2,mu)\n",
    "print(\"#1 %.3f\" %prob)"
   ]
  },
  {
   "cell_type": "code",
   "execution_count": 29,
   "metadata": {},
   "outputs": [
    {
     "name": "stdout",
     "output_type": "stream",
     "text": [
      "#2 0.199\n"
     ]
    }
   ],
   "source": [
    "#2\n",
    "cdf_prob1 = stats.poisson.cdf(1,mu)\n",
    "print(\"#2 %.3f\" %cdf_prob1)"
   ]
  },
  {
   "cell_type": "code",
   "execution_count": 28,
   "metadata": {},
   "outputs": [
    {
     "name": "stdout",
     "output_type": "stream",
     "text": [
      "#3 0.577\n"
     ]
    }
   ],
   "source": [
    "#3\n",
    "cdf_prob2 = stats.poisson.cdf(2,mu)\n",
    "print(\"#3 %.3f\" %(1-cdf_prob2))"
   ]
  },
  {
   "cell_type": "markdown",
   "metadata": {},
   "source": [
    "# 표본분포"
   ]
  },
  {
   "cell_type": "code",
   "execution_count": null,
   "metadata": {},
   "outputs": [],
   "source": []
  },
  {
   "cell_type": "markdown",
   "metadata": {},
   "source": [
    "# 통계적 추정과 검정"
   ]
  },
  {
   "cell_type": "markdown",
   "metadata": {},
   "source": [
    "# 정규성 검정"
   ]
  },
  {
   "cell_type": "markdown",
   "metadata": {},
   "source": [
    "## [연습]"
   ]
  },
  {
   "cell_type": "code",
   "execution_count": 32,
   "metadata": {},
   "outputs": [
    {
     "data": {
      "text/plain": [
       "(0.9788156747817993, 0.10744144767522812)"
      ]
     },
     "execution_count": 32,
     "metadata": {},
     "output_type": "execute_result"
    }
   ],
   "source": [
    "from scipy.stats import shapiro\n",
    "\n",
    "ds_camshaft = pd.read_csv(\"camshaft.csv\", engine=\"python\")\n",
    "ds_camshaft.head()\n",
    "\n",
    "data1 = ds_camshaft['Supp1']\n",
    "shapiro(data1)"
   ]
  },
  {
   "cell_type": "markdown",
   "metadata": {},
   "source": [
    "## [실습]"
   ]
  },
  {
   "cell_type": "code",
   "execution_count": 39,
   "metadata": {},
   "outputs": [
    {
     "name": "stdout",
     "output_type": "stream",
     "text": [
      "    Mat_A  Mat_B  Total  Sub\n",
      "0    73.4   68.7   73.4    1\n",
      "1    77.0   71.4   77.0    1\n",
      "2    73.7   69.8   73.7    1\n",
      "3    73.3   75.3   73.3    1\n",
      "4    73.1   71.3   73.1    1\n",
      "5    71.5   72.7   71.5    1\n",
      "6    74.5   66.9   74.5    1\n",
      "7    77.5   70.2   77.5    1\n",
      "8    76.4   74.4   76.4    1\n",
      "9    77.7   70.1   77.7    1\n",
      "10    NaN    NaN   68.7    2\n",
      "11    NaN    NaN   71.4    2\n",
      "12    NaN    NaN   69.8    2\n",
      "13    NaN    NaN   75.3    2\n",
      "14    NaN    NaN   71.3    2\n",
      "15    NaN    NaN   72.7    2\n",
      "16    NaN    NaN   66.9    2\n",
      "17    NaN    NaN   70.2    2\n",
      "18    NaN    NaN   74.4    2\n",
      "19    NaN    NaN   70.1    2\n"
     ]
    },
    {
     "data": {
      "text/plain": [
       "(0.9062636494636536, 0.2562994360923767)"
      ]
     },
     "execution_count": 39,
     "metadata": {},
     "output_type": "execute_result"
    }
   ],
   "source": [
    "ds_sample = pd.read_csv(\"2sample_t_test.csv\", engine=\"python\")\n",
    "ds_sample.head()\n",
    "print(ds_sample)\n",
    "\n",
    "# 결측치 제거 (Not available Number)\n",
    "data1 = ds_sample['Mat_A'].dropna(axis=0)  #axis=0 -> row값을 삭제\n",
    "shapiro(data1)"
   ]
  },
  {
   "cell_type": "code",
   "execution_count": 40,
   "metadata": {},
   "outputs": [
    {
     "data": {
      "text/plain": [
       "(0.9729753732681274, 0.9169777035713196)"
      ]
     },
     "execution_count": 40,
     "metadata": {},
     "output_type": "execute_result"
    }
   ],
   "source": [
    "ds_sample = pd.read_csv(\"2sample_t_test.csv\", engine=\"python\")\n",
    "ds_sample.head()\n",
    "\n",
    "# 결측치 제거 (Not available Number)\n",
    "data2 = ds_sample['Mat_B'].dropna(axis=0)\n",
    "shapiro(data2)"
   ]
  },
  {
   "cell_type": "markdown",
   "metadata": {},
   "source": [
    "## 모평균추정"
   ]
  },
  {
   "cell_type": "markdown",
   "metadata": {},
   "source": [
    "### [연습] 모표준편차를 아는 경우"
   ]
  },
  {
   "cell_type": "code",
   "execution_count": 42,
   "metadata": {},
   "outputs": [
    {
     "name": "stdout",
     "output_type": "stream",
     "text": [
      "신뢰구간: [2.57],[2.82])\n"
     ]
    }
   ],
   "source": [
    "df = pd.DataFrame({\"sample\" : [3.6,2.9,2.8,2.6,3.4,3.2,2.2,2.6,2.6,2.4,\n",
    "                              2.4,2.6,3.4,2.4,2.1,2.6,3.0,2.4,2.7,2.4,\n",
    "                              2.6,2.9,2.9,2.0,2.7,2.2,2.8,2.7,1.8,2.5,\n",
    "                              3.0,3.2,2.8,2.6,3.2,3.1,2.9,2.7,2.7,2.2]})\n",
    "df.head()\n",
    "\n",
    "lower,upper = stats.norm.interval(0.95, loc = np.mean(df), scale = 0.397/np.sqrt(40))\n",
    "print(\"신뢰구간: {0},{1}\".format(lower.round(2), upper.round(2)))"
   ]
  },
  {
   "cell_type": "markdown",
   "metadata": {},
   "source": [
    "### [과제]"
   ]
  },
  {
   "cell_type": "code",
   "execution_count": 104,
   "metadata": {},
   "outputs": [
    {
     "name": "stdout",
     "output_type": "stream",
     "text": [
      "신뢰구간: 18.102,20.898\n"
     ]
    }
   ],
   "source": [
    "import pandas as pd\n",
    "from scipy import stats\n",
    "from scipy.stats import shapiro\n",
    "\n",
    "# 수작업\n",
    "x_ = np.mean([18,18,20,21,20,23,19,18,17,21,\n",
    "            22,20,20,21,20,19,19,18,17,19])\n",
    "s = 3.8\n",
    "z = stats.norm.ppf(0.05)\n",
    "n = 20\n",
    "\n",
    "lower = x_+z*(3.8/np.sqrt(20))\n",
    "upper = x_-z*(3.8/np.sqrt(20))\n",
    "print(\"신뢰구간: {0},{1}\".format(lower.round(3), upper.round(3)))\n"
   ]
  },
  {
   "cell_type": "code",
   "execution_count": 46,
   "metadata": {},
   "outputs": [
    {
     "name": "stdout",
     "output_type": "stream",
     "text": [
      "신뢰구간: [17.83],[21.17])\n"
     ]
    }
   ],
   "source": [
    "# 코딩\n",
    "df = pd.DataFrame({\"sample\" : [18,18,20,21,20,23,19,18,17,21,\n",
    "                              22,20,20,21,20,19,19,18,17,19]})\n",
    "lower,upper = stats.norm.interval(0.95, loc = np.mean(df), scale = 3.8/np.sqrt(20))\n",
    "print(\"신뢰구간: {0},{1}\".format(lower.round(2), upper.round(2)))"
   ]
  },
  {
   "cell_type": "markdown",
   "metadata": {},
   "source": [
    "-------------------"
   ]
  },
  {
   "cell_type": "markdown",
   "metadata": {},
   "source": [
    "### [연습] 모표준편차를  모르는 경우"
   ]
  },
  {
   "cell_type": "code",
   "execution_count": 47,
   "metadata": {},
   "outputs": [
    {
     "name": "stdout",
     "output_type": "stream",
     "text": [
      "신뢰구간: [54.39],[55.33]\n"
     ]
    }
   ],
   "source": [
    "import pandas as pd\n",
    "from scipy import stats\n",
    "from scipy.stats import shapiro\n",
    "\n",
    "df = pd.DataFrame({\"sample\" : [54.1,53.3,56.1,55.7,54.0,54.1,54.5,57.1,55.2,53.8,\n",
    "                              54.1,54.1,56.1,55.0,55.9,56.0,54.9,54.3,53.9,55.0]})\n",
    "\n",
    "lower,upper = stats.t.interval(0.95,len(df)-1, loc=np.mean(df), scale=scipy.stats.sem(df))\n",
    "print(\"신뢰구간: {0},{1}\".format(lower.round(2), upper.round(2)))\n"
   ]
  },
  {
   "cell_type": "markdown",
   "metadata": {},
   "source": [
    "### [과제] 모표준편차 모르는 경우 p.111"
   ]
  },
  {
   "cell_type": "code",
   "execution_count": 80,
   "metadata": {},
   "outputs": [
    {
     "name": "stdout",
     "output_type": "stream",
     "text": [
      "신뢰구간: [70.6],[72.4]\n"
     ]
    }
   ],
   "source": [
    "import numpy as np\n",
    "import pandas as pd\n",
    "from scipy import stats\n",
    "from scipy.stats import shapiro\n",
    "\n",
    "df = pd.DataFrame({\"sample\" : [73,71,74,69,70,73,70,68,75,72,\n",
    "                              70,72,73,70,70,72,71,70,75,72]})\n",
    "\n",
    "lower,upper = stats.t.interval(0.95,len(df)-1, loc=np.mean(df), scale=scipy.stats.sem(df)) \n",
    "# np.mean(df) == 71.50, scale(표준오차) -> scipy.stats.sem(df) == 1.933/sqrt(20) \n",
    "    # print(1.933/np.sqrt(20))\n",
    "    # print(scipy.stats.sem(df))\n",
    "print(\"신뢰구간: {0},{1}\".format(lower.round(2), upper.round(2)))\n"
   ]
  },
  {
   "cell_type": "markdown",
   "metadata": {},
   "source": [
    "### [연습] 모분산 신뢰구간 추정 p.113"
   ]
  },
  {
   "cell_type": "code",
   "execution_count": 49,
   "metadata": {},
   "outputs": [
    {
     "data": {
      "text/plain": [
       "3.325112843066815"
      ]
     },
     "execution_count": 49,
     "metadata": {},
     "output_type": "execute_result"
    }
   ],
   "source": [
    "prop = stats.chi2.ppf(0.05,9)\n",
    "prop"
   ]
  },
  {
   "cell_type": "code",
   "execution_count": 50,
   "metadata": {},
   "outputs": [
    {
     "data": {
      "text/plain": [
       "16.918977604620448"
      ]
     },
     "execution_count": 50,
     "metadata": {},
     "output_type": "execute_result"
    }
   ],
   "source": [
    "prop = stats.chi2.ppf(0.95,9)\n",
    "prop"
   ]
  },
  {
   "cell_type": "markdown",
   "metadata": {},
   "source": [
    "### [연습] 모분산 신뢰구간 추정 p.115"
   ]
  },
  {
   "cell_type": "code",
   "execution_count": 72,
   "metadata": {},
   "outputs": [
    {
     "name": "stdout",
     "output_type": "stream",
     "text": [
      "70.22241356643451\n",
      "신뢰구간: (10.85, 24.15)\n"
     ]
    }
   ],
   "source": [
    "df = pd.DataFrame({\"sample\" : [12,13,16,9,5,19,13,8,11,17,\n",
    "                              9,5,12,11,8,6,10,12,17,11,\n",
    "                              10,9,12,14,9,6,8,14,5,8,\n",
    "                              5,8,4,9,6,8,13,16,9,5,\n",
    "                              16,13,14,17,11,9,19,16,12,8]})\n",
    "\n",
    "alpha = 0.05\n",
    "n = len(df)\n",
    "# s = np.var(df['sample']) # 분산 (python의 var,std :원래 n-1로 나누어야하지만 파이썬에서는 n으로 나눔)\n",
    "s = np.std(df['sample'])  # 표준편차\n",
    "df = n-1\n",
    "\n",
    "prob = stats.chi2.ppf(1-alpha/2,df)\n",
    "print(prob)\n",
    "\n",
    "upper = (n-1)*s**2 / stats.chi2.ppf(alpha/2,df)\n",
    "lower = (n-1)*s**2 / stats.chi2.ppf(1-alpha/2,df)\n",
    "print(\"신뢰구간: ({0}, {1})\".format(lower.round(2), upper.round(2)))\n"
   ]
  },
  {
   "cell_type": "markdown",
   "metadata": {},
   "source": [
    "## 모비율 신뢰구간 추정"
   ]
  },
  {
   "cell_type": "markdown",
   "metadata": {},
   "source": [
    "### [연습] 모비율 신뢰구간 추정 p.117"
   ]
  },
  {
   "cell_type": "code",
   "execution_count": 92,
   "metadata": {},
   "outputs": [
    {
     "name": "stdout",
     "output_type": "stream",
     "text": [
      "실업률에 대한 90% 신뢰구간: (0.05, 0.07)\n"
     ]
    }
   ],
   "source": [
    "p = 0.06\n",
    "n = 1600\n",
    "# z = stats.norm.ppf(0.05,0,1) <- Z(a/2) 구하기\n",
    "z = stats.norm.ppf(0.95,0,1)\n",
    "\n",
    "lower = p-z*np.sqrt(p*(1-p)/n)\n",
    "upper = p+z*np.sqrt(p*(1-p)/n)\n",
    "print(\"실업률에 대한 90% 신뢰구간: ({0}, {1})\".format(lower.round(3), upper.round(3)))"
   ]
  },
  {
   "cell_type": "code",
   "execution_count": 84,
   "metadata": {},
   "outputs": [
    {
     "data": {
      "text/plain": [
       "1.6448536269514722"
      ]
     },
     "execution_count": 84,
     "metadata": {},
     "output_type": "execute_result"
    }
   ],
   "source": [
    "prop = stats.norm.ppf(0.95,0,1)\n",
    "prop"
   ]
  },
  {
   "cell_type": "markdown",
   "metadata": {},
   "source": [
    "### [실습] 모비율 신뢰구간 추정 p.120"
   ]
  },
  {
   "cell_type": "code",
   "execution_count": 96,
   "metadata": {},
   "outputs": [
    {
     "name": "stdout",
     "output_type": "stream",
     "text": [
      "-1.9599639845400545\n",
      "실업률에 대한 90% 신뢰구간: (0.074, 0.286)\n"
     ]
    }
   ],
   "source": [
    "p = 0.18\n",
    "n = 50\n",
    "# z = stats.norm.ppf(0.05,0,1) <- Z(a/2) 구하기\n",
    "z = stats.norm.ppf(0.025,0,1)\n",
    "print(z)\n",
    "\n",
    "lower = p+z*np.sqrt(p*(1-p)/n)\n",
    "upper = p-z*np.sqrt(p*(1-p)/n)\n",
    "print(\"실업률에 대한 90% 신뢰구간: ({0}, {1})\".format(lower.round(3), upper.round(3)))"
   ]
  },
  {
   "cell_type": "markdown",
   "metadata": {},
   "source": [
    "## 통계적 가설검정"
   ]
  },
  {
   "cell_type": "code",
   "execution_count": null,
   "metadata": {},
   "outputs": [],
   "source": []
  },
  {
   "cell_type": "code",
   "execution_count": 105,
   "metadata": {},
   "outputs": [
    {
     "data": {
      "text/plain": [
       "-2.262157162740992"
      ]
     },
     "execution_count": 105,
     "metadata": {},
     "output_type": "execute_result"
    }
   ],
   "source": [
    "prop = stats.t.ppf(0.025,9)\n",
    "prop"
   ]
  },
  {
   "cell_type": "markdown",
   "metadata": {},
   "source": [
    "### [연습] 평균검정(모집단 표준편차를 모르는 경우) p139"
   ]
  },
  {
   "cell_type": "code",
   "execution_count": 106,
   "metadata": {},
   "outputs": [
    {
     "name": "stdout",
     "output_type": "stream",
     "text": [
      "1-Sample t-test\n",
      "t 통계량 : [0.864]\n",
      "p-value : [0.41]\n"
     ]
    }
   ],
   "source": [
    "df = pd.DataFrame({\"sample\": [74.5,81.2,73.8,82.0,76.3,75.7,80.2,72.6,77.9,82.8]})\n",
    "\n",
    "shapiro(df)\n",
    "\n",
    "t_result = stats.ttest_1samp(df,76.7)\n",
    "\n",
    "t,p = t_result.statistic.round(3), t_result.pvalue.round(3)\n",
    "\n",
    "print(\"1-Sample t-test\")\n",
    "print(\"t 통계량 : {}\".format(t))\n",
    "print(\"p-value : {}\".format(p))"
   ]
  },
  {
   "cell_type": "markdown",
   "metadata": {},
   "source": [
    "### [과제3]"
   ]
  },
  {
   "cell_type": "code",
   "execution_count": 113,
   "metadata": {},
   "outputs": [
    {
     "name": "stdout",
     "output_type": "stream",
     "text": [
      "1-Sample t-test\n",
      "t 검정통계량 : [3.379]\n",
      "p-value : [0.008]\n",
      "t 임계값 : 2.262\n"
     ]
    }
   ],
   "source": [
    "import numpy as np\n",
    "import pandas as pd\n",
    "from scipy import stats\n",
    "from scipy.stats import shapiro\n",
    "\n",
    "#df 입력\n",
    "df = pd.DataFrame({\"sample\": [85.0,79.0,79.1,79.9,81.6,78.6,85.4,83.4,78.1,79.2]})\n",
    "\n",
    "# 정규성 검정\n",
    "shapiro(df)   # (0.8473219275474548, 0.053975414484739304)\n",
    "\n",
    "# 1-Sample t-test => t 검정통계량\n",
    "t_result = stats.ttest_1samp(df,78.0)\n",
    "\n",
    "# 1-Sample t-test의 t값 p값 저장 => p-value\n",
    "t,p = t_result.statistic.round(3), t_result.pvalue.round(3)\n",
    "\n",
    "# 유의수준\n",
    "a = 0.05\n",
    "\n",
    "# 임계값\n",
    "prop = stats.t.ppf(0.975,9).round(3)\n",
    "\n",
    "print(\"1-Sample t-test\")\n",
    "print(\"t 검정통계량 : {}\".format(t))\n",
    "print(\"p-value : {}\".format(p))\n",
    "print(\"t 임계값 : {}\".format(prop))"
   ]
  },
  {
   "cell_type": "code",
   "execution_count": null,
   "metadata": {},
   "outputs": [],
   "source": [
    "'''\n",
    "1. 가설수립\n",
    "  H0(귀무가설) : 개선 활동이 고객 만족도를 변화시켰다고 할 수 없다.\n",
    "  H1(대립가설) : 개선 활동이 고객 만족도를 변화시켰다고 할 수 있다.\n",
    "  \n",
    "2. 유의수준 : a = 0.05\n",
    "\n",
    "3. 검정통계량 : t = 3.379\n",
    "   p-value : p = 0.008\n",
    "\n",
    "4. p-value가 유의수준 a보다 더 작다. => 대립가설을 채택한다.\n",
    "\n",
    "5. 즉, 개선 활동이 고객 만족도를 변화시켰다고 할 수 있다.\n",
    "\n",
    "'''"
   ]
  },
  {
   "cell_type": "code",
   "execution_count": null,
   "metadata": {},
   "outputs": [],
   "source": []
  },
  {
   "cell_type": "code",
   "execution_count": null,
   "metadata": {},
   "outputs": [],
   "source": []
  },
  {
   "cell_type": "code",
   "execution_count": null,
   "metadata": {},
   "outputs": [],
   "source": []
  },
  {
   "cell_type": "code",
   "execution_count": null,
   "metadata": {},
   "outputs": [],
   "source": []
  },
  {
   "cell_type": "code",
   "execution_count": null,
   "metadata": {},
   "outputs": [],
   "source": []
  }
 ],
 "metadata": {
  "kernelspec": {
   "display_name": "Python 3",
   "language": "python",
   "name": "python3"
  },
  "language_info": {
   "codemirror_mode": {
    "name": "ipython",
    "version": 3
   },
   "file_extension": ".py",
   "mimetype": "text/x-python",
   "name": "python",
   "nbconvert_exporter": "python",
   "pygments_lexer": "ipython3",
   "version": "3.7.4"
  }
 },
 "nbformat": 4,
 "nbformat_minor": 2
}
