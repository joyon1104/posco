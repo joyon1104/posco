{
 "cells": [
  {
   "cell_type": "markdown",
   "metadata": {},
   "source": [
    "## 평균 검정 - 2 sample t-test"
   ]
  },
  {
   "cell_type": "markdown",
   "metadata": {},
   "source": [
    "### [연습] 2-sample t-test"
   ]
  },
  {
   "cell_type": "code",
   "execution_count": 33,
   "metadata": {},
   "outputs": [],
   "source": [
    "import numpy as np\n",
    "from scipy import stats\n",
    "import scipy.stats\n",
    "import pandas as pd\n",
    "import statsmodels.api as sm\n",
    "import matplotlib.pyplot as plt\n",
    "import seaborn as sns\n",
    "from scipy.stats import shapiro\n",
    "from statsmodels.stats.proportion import proportions_ztest\n"
   ]
  },
  {
   "cell_type": "code",
   "execution_count": 15,
   "metadata": {},
   "outputs": [
    {
     "data": {
      "text/plain": [
       "LeveneResult(statistic=0.04810126582278468, pvalue=0.8275746090758196)"
      ]
     },
     "execution_count": 15,
     "metadata": {},
     "output_type": "execute_result"
    }
   ],
   "source": [
    "df1 = pd.DataFrame({'sample':[6,5,5,4,6,7,6,4,5,6,4,5,5,6,4,8,6,5,6,7]})\n",
    "df2 = pd.DataFrame({'sample':[7,5,7,8,7,8,8,5,7,6,5,5,6,6,5,7,9,7,7,8]})\n",
    "\n",
    "# 정규성 검정\n",
    "shapiro(df1) # (0.9094840288162231, 0.06230909377336502) => (검정통계량, pvalue) pvalue > a(0.05) : 정규성이 있다.\n",
    "shapiro(df2)  # (0.8978105783462524, 0.03752673789858818) => (검정통계량, pvalue) pvalue > a(0.05) : 정규성이 있다.\n",
    "\n",
    "# 등분산성 검정  # 0.827(pvalue) > 0.05(유의수준) => 등분산성이 있다.\n",
    "stats.levene(df1['sample'],df2['sample']) # LeveneResult(statistic=0.04810126582278468, pvalue=0.8275746090758196)"
   ]
  },
  {
   "cell_type": "code",
   "execution_count": 20,
   "metadata": {},
   "outputs": [
    {
     "name": "stdout",
     "output_type": "stream",
     "text": [
      "[-3.122] [0.003]\n"
     ]
    }
   ],
   "source": [
    "# 2 Sample t-test\n",
    "t_result = stats.ttest_ind(df1,df2, equal_var=True)\n",
    "\n",
    "# 2 sample t-test의 t값 p값 저장\n",
    "t,p = t_result.statistic.round(3), t_result.pvalue.round(3)\n",
    "\n",
    "# 출력 t,p\n",
    "print(t,p)  # [-3.122] [0.003] <- 검정통계량, pvalue\n",
    "\n",
    "# 유의수준 > pvalue 이므로 두 집단 간의 차이가 있다."
   ]
  },
  {
   "cell_type": "markdown",
   "metadata": {},
   "source": [
    "### [실습] 2-sample t-test"
   ]
  },
  {
   "cell_type": "code",
   "execution_count": 24,
   "metadata": {},
   "outputs": [
    {
     "name": "stdout",
     "output_type": "stream",
     "text": [
      "(0.8425756096839905, 0.08004552870988846)\n",
      "(0.7734811902046204, 0.014793740585446358)\n",
      "LeveneResult(statistic=0.4408416728536036, pvalue=0.5175025061092301)\n",
      "[1.7] [0.111]\n"
     ]
    }
   ],
   "source": [
    "df1 = pd.DataFrame({'sample':[1.883,1.715,1.799,1.768,1.711,1.832,1.427,1.344]})\n",
    "df2 = pd.DataFrame({'sample':[1.435,1.572,1.486,1.511,1.457,1.548,1.404,1.883]})\n",
    "\n",
    "# 정규성 검정\n",
    "print(shapiro(df1)) # 정규성 있다 \n",
    "print(shapiro(df2)) # 정규성 없다\n",
    "\n",
    "# 등분산성 검정 \n",
    "print(stats.levene(df1['sample'],df2['sample'])) # 등분산성 있다\n",
    "\n",
    "# 2 Sample t-test\n",
    "t_result = stats.ttest_ind(df1,df2, equal_var=True)\n",
    "\n",
    "# 2 sample t-test의 t값 p값 저장\n",
    "t,p = t_result.statistic.round(3), t_result.pvalue.round(3)\n",
    "\n",
    "# 출력 t,p\n",
    "print(t,p)\n",
    "\n",
    "# pvalue > 0.05 : A 공급자와 B 공급자가 납품한 제품의 두께가 차이가 있다고 할 수 없다."
   ]
  },
  {
   "cell_type": "markdown",
   "metadata": {},
   "source": [
    "### [연습] Paired t-test"
   ]
  },
  {
   "cell_type": "code",
   "execution_count": 27,
   "metadata": {},
   "outputs": [
    {
     "name": "stdout",
     "output_type": "stream",
     "text": [
      "[-5.32391] [0.00048]\n"
     ]
    }
   ],
   "source": [
    "df1 = pd.DataFrame({'before':[720,589,780,648,720,589,780,648,780,648]})\n",
    "df2 = pd.DataFrame({'after':[810,670,790,712,810,670,790,712,790,712]})\n",
    "\n",
    "t_result = stats.ttest_rel(df1,df2)\n",
    "\n",
    "t,p = t_result.statistic.round(5), t_result.pvalue.round(5)\n",
    "\n",
    "print(t,p)\n",
    "\n",
    "#x1 - x2 를 했기 때문에 검정통계량이 음수 => x2가 더 크다 => 성적이 올랐다\n",
    "# pvalue < a(유의수준) => 학원 수강 전후의 점수는 차이가 있다고 할 수 있다.\n"
   ]
  },
  {
   "cell_type": "markdown",
   "metadata": {},
   "source": [
    "### [실습] Paired t-test"
   ]
  },
  {
   "cell_type": "code",
   "execution_count": 30,
   "metadata": {},
   "outputs": [
    {
     "name": "stdout",
     "output_type": "stream",
     "text": [
      "[-2.266] [0.05]\n"
     ]
    }
   ],
   "source": [
    "df1 = pd.DataFrame({'before':[720,589,780,648,720,589,780,648,780,648]})\n",
    "df2 = pd.DataFrame({'after':[710,580,787,712,750,600,782,670,790,680]})\n",
    "\n",
    "t_result = stats.ttest_rel(df1,df2)\n",
    "\n",
    "t,p = t_result.statistic.round(3), t_result.pvalue.round(3)\n",
    "\n",
    "print(t,p) # pvalue > a(유의수준) => 학원 수강 전후의 점수는 차이가 있다고 할 수 없다."
   ]
  },
  {
   "cell_type": "markdown",
   "metadata": {},
   "source": [
    "## 1 Proportion test"
   ]
  },
  {
   "cell_type": "markdown",
   "metadata": {},
   "source": [
    "### [연습] 1 Propotion test"
   ]
  },
  {
   "cell_type": "code",
   "execution_count": 38,
   "metadata": {},
   "outputs": [
    {
     "name": "stdout",
     "output_type": "stream",
     "text": [
      "1.4002800840280094 0.16142946236708322\n"
     ]
    }
   ],
   "source": [
    "count = 15\n",
    "n_obs = 100\n",
    "value = 0.1\n",
    "\n",
    "stat,pval = proportions_ztest(count,n_obs,value)\n",
    "print(stat,pval)"
   ]
  },
  {
   "cell_type": "code",
   "execution_count": 37,
   "metadata": {},
   "outputs": [
    {
     "name": "stdout",
     "output_type": "stream",
     "text": [
      "14.002800840280093 1.4984678147052802e-44\n"
     ]
    }
   ],
   "source": [
    "# 데이터 늘림\n",
    "count = 1500\n",
    "n_obs = 10000\n",
    "value = 0.1\n",
    "\n",
    "stat,pval = proportions_ztest(count,n_obs,value)\n",
    "print(stat,pval)\n",
    "\n",
    "#같은 비율이어도 데이터가 많아지면 차이가 있게 나옴."
   ]
  },
  {
   "cell_type": "markdown",
   "metadata": {},
   "source": [
    "### [실습] 1 Propotion test"
   ]
  },
  {
   "cell_type": "code",
   "execution_count": 39,
   "metadata": {},
   "outputs": [
    {
     "name": "stdout",
     "output_type": "stream",
     "text": [
      "-2.0412414523193148 0.0412268333371637\n"
     ]
    }
   ],
   "source": [
    "count = 40\n",
    "n_obs = 100\n",
    "value = 0.5\n",
    "\n",
    "stat,pval = proportions_ztest(count,n_obs,value)\n",
    "print(stat,pval)\n",
    "\n",
    "# pvalue < a(0.05) => 차이가 있다고 할 수 있다"
   ]
  },
  {
   "cell_type": "markdown",
   "metadata": {},
   "source": [
    "### [연습] 2 Propotion test"
   ]
  },
  {
   "cell_type": "code",
   "execution_count": 40,
   "metadata": {},
   "outputs": [
    {
     "name": "stdout",
     "output_type": "stream",
     "text": [
      "1.553109404737079 0.12039699966295712\n"
     ]
    }
   ],
   "source": [
    "count = np.array([4,1])\n",
    "nobs = np.array([1000,1200])\n",
    "\n",
    "stat,pval = proportions_ztest(count,nobs)\n",
    "print(stat,pval)"
   ]
  },
  {
   "cell_type": "code",
   "execution_count": 42,
   "metadata": {},
   "outputs": [
    {
     "name": "stdout",
     "output_type": "stream",
     "text": [
      "15.531094047370791 2.1370254056121516e-54\n"
     ]
    }
   ],
   "source": [
    "# 데이터를 증가시킴\n",
    "count = np.array([400,100])\n",
    "nobs = np.array([100000,120000])\n",
    "\n",
    "stat,pval = proportions_ztest(count,nobs)\n",
    "print(stat,pval)\n",
    "\n",
    "# 같은 비율이어도 데이터가 많아지면 pvalue가 적게 나와서 차이가 있다는 결론이 나옴."
   ]
  },
  {
   "cell_type": "markdown",
   "metadata": {},
   "source": [
    "### [실습] 2 Propotion test"
   ]
  },
  {
   "cell_type": "code",
   "execution_count": 43,
   "metadata": {},
   "outputs": [
    {
     "name": "stdout",
     "output_type": "stream",
     "text": [
      "2.0729633895345208 0.03817568685216671\n"
     ]
    }
   ],
   "source": [
    "count = np.array([14,5])\n",
    "nobs = np.array([1200,1200])\n",
    "\n",
    "stat,pval = proportions_ztest(count,nobs)\n",
    "print(stat,pval)"
   ]
  },
  {
   "cell_type": "markdown",
   "metadata": {},
   "source": [
    "## 카이제곱 검정"
   ]
  },
  {
   "cell_type": "markdown",
   "metadata": {},
   "source": [
    "### [연습] 카이제곱 검정"
   ]
  },
  {
   "cell_type": "code",
   "execution_count": 48,
   "metadata": {},
   "outputs": [
    {
     "name": "stdout",
     "output_type": "stream",
     "text": [
      "chi-square test\n",
      "chisq: 13.366\n",
      "p: 0.038\n",
      "degree pf freedom: 6\n",
      "expected value: \n",
      "[[258.333 276.333 230.667 234.667]\n",
      " [258.333 276.333 230.667 234.667]\n",
      " [258.333 276.333 230.667 234.667]]\n"
     ]
    }
   ],
   "source": [
    "df = pd.DataFrame({'HSG':[270,260,236,234],'SS':[228,285,225,262], 'SPA':[277,284,231,208]})\n",
    "\n",
    "chi,pval,dof,expected = stats.chi2_contingency(df.T)\n",
    "\n",
    "print(\"chi-square test\")\n",
    "print('chisq: {0:0.3f}'.format(chi))\n",
    "print('p: {0:0.3f}'.format(pval))\n",
    "print('degree pf freedom: {}'.format(dof))\n",
    "print('expected value: \\n{}'.format(expected.round(3)))\n",
    "\n",
    "# pvalue < 유의수준(0.05) => 차이가 있다 (대립가설 채택) "
   ]
  },
  {
   "cell_type": "markdown",
   "metadata": {},
   "source": [
    "### [실습] 카이제곱 검정"
   ]
  },
  {
   "cell_type": "code",
   "execution_count": 56,
   "metadata": {},
   "outputs": [
    {
     "name": "stdout",
     "output_type": "stream",
     "text": [
      "chi-square test\n",
      "chisq: 98.274\n",
      "p: 0.0000000035\n",
      "degree pf freedom: 30\n",
      "expected value: \n",
      "[[11.004  8.21   5.24   3.843  1.921  9.782]\n",
      " [ 8.528  6.362  4.061  2.978  1.489  7.581]\n",
      " [10.454  7.799  4.978  3.651  1.825  9.293]\n",
      " [ 8.253  6.157  3.93   2.882  1.441  7.336]\n",
      " [ 7.978  5.952  3.799  2.786  1.393  7.092]\n",
      " [ 8.803  6.568  4.192  3.074  1.537  7.825]\n",
      " [ 7.978  5.952  3.799  2.786  1.393  7.092]]\n"
     ]
    }
   ],
   "source": [
    "df = pd.DataFrame({'A':[18,1,8,7,10,9,10],'B':[8,2,14,5,5,9,4], 'C':[4,1,3,4,9,5,4],\n",
    "                   'D':[4,1,2,3,2,7,3], 'E':[3,1,3,1,1,1,1], 'F':[3,25,8,10,2,1,7]})\n",
    "\n",
    "chi,pval,dof,expected = stats.chi2_contingency(df) # df.T 여도 동일\n",
    "\n",
    "print(\"chi-square test\")\n",
    "print('chisq: {0:0.3f}'.format(chi))\n",
    "print('p: {0:0.10f}'.format(pval))\n",
    "print('degree pf freedom: {}'.format(dof))\n",
    "print('expected value: \\n{}'.format(expected.round(3)))\n",
    "\n",
    "# pvalue < 유의수준(a) => 귀무가설 기각 \"차이가 있다고 할 수 있다\""
   ]
  },
  {
   "cell_type": "markdown",
   "metadata": {},
   "source": [
    "## ANOVA 분석 (분산 분석)"
   ]
  },
  {
   "cell_type": "markdown",
   "metadata": {},
   "source": [
    "### [연습] One way ANOVA"
   ]
  },
  {
   "cell_type": "code",
   "execution_count": 58,
   "metadata": {},
   "outputs": [
    {
     "data": {
      "text/plain": [
       "<matplotlib.axes._subplots.AxesSubplot at 0x7f84f27e8850>"
      ]
     },
     "execution_count": 58,
     "metadata": {},
     "output_type": "execute_result"
    },
    {
     "data": {
      "image/png": "[encoded data removed]",
      "text/plain": [
       "<Figure size 432x288 with 1 Axes>"
      ]
     },
     "metadata": {
      "needs_background": "light"
     },
     "output_type": "display_data"
    }
   ],
   "source": [
    "df = pd.DataFrame({'A':[892,623,721,678,723,790,720,670,690,771],\n",
    "                  'B':[721,821,910,678,723,790,711,790,745,891],\n",
    "                  'C':[621,915,888,721,894,834,841,912,845,889]})\n",
    "\n",
    "df.boxplot(['A','B','C'])"
   ]
  },
  {
   "cell_type": "code",
   "execution_count": 59,
   "metadata": {},
   "outputs": [
    {
     "name": "stdout",
     "output_type": "stream",
     "text": [
      "4.263 0.025\n"
     ]
    }
   ],
   "source": [
    "f_result = stats.f_oneway(df['A'],df['B'],df['C'])\n",
    "\n",
    "f,p = f_result.statistic.round(3), f_result.pvalue.round(3)\n",
    "\n",
    "print(f,p) # f통계량, pvalue"
   ]
  },
  {
   "cell_type": "markdown",
   "metadata": {},
   "source": [
    "## [과제 1 ] One way ANOVA"
   ]
  },
  {
   "cell_type": "code",
   "execution_count": 89,
   "metadata": {},
   "outputs": [
    {
     "name": "stdout",
     "output_type": "stream",
     "text": [
      "F 통계량: 4.172\n",
      "p-value: 0.019\n"
     ]
    }
   ],
   "source": [
    "import csv\n",
    "\n",
    "f = open('ANOVA.csv', 'r')\n",
    "reader = csv.reader(f)\n",
    "dic = {}\n",
    "i = 0\n",
    "\n",
    "for row in reader:\n",
    "    if i == 0:\n",
    "        i += 1\n",
    "        continue\n",
    "    if row[2] not in dic:\n",
    "        dic[row[2]] = []\n",
    "        dic[row[2]].append(row[0])\n",
    "    else:\n",
    "        dic[row[2]].append(row[0])\n",
    "\n",
    "df = pd.DataFrame(dic)\n",
    "\n",
    "f_result = stats.f_oneway(df['a'],df['b'],df['c'],df['d'])\n",
    "\n",
    "f,p = f_result.statistic.round(3), f_result.pvalue.round(3)\n",
    "\n",
    "print(\"F 통계량: {}\".format(f))\n",
    "print(\"p-value: {}\".format(p))"
   ]
  },
  {
   "cell_type": "markdown",
   "metadata": {},
   "source": [
    "1. 가설설립\n",
    " * 귀무가설 : 강종별 2차정련 시간에 차이가 있다고 할 수 없다.\n",
    " * 대립가설 : 강종별 2차정련 시간에 차이가 있다고 할 수 있다.\n",
    " \n",
    " \n",
    "2. 가설검정\n",
    " * 검정통계량 : 4.172\n",
    " * p-value : 0.019\n",
    " * 유의수준 : 0.05\n",
    " \n",
    " \n",
    "3. 검정결과 판단\n",
    " * p-value < 유의수준 이므로 귀무가설을 기각한다.\n",
    " \n",
    " \n",
    "4. 결론\n",
    " * 강종별 2차정련 시간에 차이가 있다고 할 수 있다."
   ]
  },
  {
   "cell_type": "markdown",
   "metadata": {},
   "source": [
    "# 상관/회귀분석"
   ]
  },
  {
   "cell_type": "markdown",
   "metadata": {},
   "source": [
    "## 상관분석"
   ]
  },
  {
   "cell_type": "markdown",
   "metadata": {},
   "source": [
    "### [연습] 상관분석"
   ]
  },
  {
   "cell_type": "code",
   "execution_count": 67,
   "metadata": {},
   "outputs": [
    {
     "name": "stdout",
     "output_type": "stream",
     "text": [
      "0.9892262536728126 p-value: 0.000\n"
     ]
    }
   ],
   "source": [
    "df1 = [1,2,3,4,4,5,6,6,7,8]\n",
    "df2 = [23,29,49,64,74,87,96,97,109,119]\n",
    "\n",
    "corr,pval = stats.pearsonr(df1,df2)\n",
    "\n",
    "print(corr, \"p-value: {0:0.3f}\".format(pval))\n",
    "\n",
    "# 귀무가설: 상관계수는 0이다\n",
    "# 대립가설: 상관계수는 0이 아니다\n",
    "# 즉, pval < a(유의수준) 이므로 귀무가설 기각\n",
    "# 부품수리시간과 부품수간에 매우 강한 상관성이 있다고 할 수 있다."
   ]
  },
  {
   "cell_type": "markdown",
   "metadata": {},
   "source": [
    "## [과제 2] 상관분석"
   ]
  },
  {
   "cell_type": "code",
   "execution_count": 98,
   "metadata": {},
   "outputs": [
    {
     "name": "stdout",
     "output_type": "stream",
     "text": [
      "corr: -0.723107314935157\n",
      "p-value: 0.0003152005510027819\n"
     ]
    }
   ],
   "source": [
    "df1 = [37.6,38.6,37.2,36.4,38.6,39,37.2,36.1,35.9,37.1,36.9,37.5,36.3,38.1,39,36.9,36.8,37.6,33,33.5]\n",
    "df2 = [14,15,14,16,17,14,17,16,15,16,14,16,18,13,15,17,14,16,20,21]\n",
    "\n",
    "corr,pval = stats.pearsonr(df1,df2)\n",
    "\n",
    "print(\"corr: {}\".format(corr))\n",
    "print(\"p-value: {}\".format(pval))\n"
   ]
  },
  {
   "cell_type": "markdown",
   "metadata": {},
   "source": [
    "1. 가설설립\n",
    " * 귀무가설 : 초코칩의 강도와 재료 반죽온도간에 상관성이 있다고 할 수 없다.\n",
    " * 대립가설 : 초코칩의 강도와 재료 반죽온도간에 상관성이 있다고 할 수 있다.\n",
    " \n",
    " \n",
    "2. 가설검정\n",
    " * p-value : 0.000\n",
    " * 유의수준 : 0.05\n",
    " \n",
    " \n",
    "3. 검정결과 판단\n",
    " * p-value < 유의수준 이므로 귀무가설을 기각한다.\n",
    " \n",
    " \n",
    "4. 결론\n",
    " * 초코칩의 강도와 재료 반죽온도간에 상관성이 있다고 할 수 있다."
   ]
  },
  {
   "cell_type": "markdown",
   "metadata": {},
   "source": [
    "## 회귀분석"
   ]
  },
  {
   "cell_type": "markdown",
   "metadata": {},
   "source": [
    "### [연습] 회귀분석"
   ]
  },
  {
   "cell_type": "code",
   "execution_count": 94,
   "metadata": {},
   "outputs": [
    {
     "name": "stdout",
     "output_type": "stream",
     "text": [
      "                            OLS Regression Results                            \n",
      "==============================================================================\n",
      "Dep. Variable:                      y   R-squared:                       0.979\n",
      "Model:                            OLS   Adj. R-squared:                  0.976\n",
      "Method:                 Least Squares   F-statistic:                     365.3\n",
      "Date:                Thu, 23 Jan 2020   Prob (F-statistic):           5.82e-08\n",
      "Time:                        16:01:33   Log-Likelihood:                -29.401\n",
      "No. Observations:                  10   AIC:                             62.80\n",
      "Df Residuals:                       8   BIC:                             63.41\n",
      "Df Model:                           1                                         \n",
      "Covariance Type:            nonrobust                                         \n",
      "==============================================================================\n",
      "                 coef    std err          t      P>|t|      [0.025      0.975]\n",
      "------------------------------------------------------------------------------\n",
      "const          7.1712      3.886      1.845      0.102      -1.791      16.133\n",
      "x1            14.6802      0.768     19.112      0.000      12.909      16.451\n",
      "==============================================================================\n",
      "Omnibus:                        0.118   Durbin-Watson:                   1.283\n",
      "Prob(Omnibus):                  0.943   Jarque-Bera (JB):                0.241\n",
      "Skew:                           0.191   Prob(JB):                        0.886\n",
      "Kurtosis:                       2.343   Cond. No.                         12.5\n",
      "==============================================================================\n",
      "\n",
      "Warnings:\n",
      "[1] Standard Errors assume that the covariance matrix of the errors is correctly specified.\n"
     ]
    }
   ],
   "source": [
    "MINUTES = [1,2,3,4,4,5,6,6,7,8]\n",
    "UNITS = [23,29,49,64,74,87,96,97,109,119]\n",
    "\n",
    "MINUTES = sm.add_constant(MINUTES)\n",
    "model = sm.OLS(UNITS,MINUTES)\n",
    "result = model.fit()\n",
    "\n",
    "print(result.summary())\n"
   ]
  },
  {
   "cell_type": "code",
   "execution_count": 95,
   "metadata": {},
   "outputs": [
    {
     "data": {
      "text/plain": [
       "(array([1., 1., 0., 2., 1., 3., 0., 0., 1., 1.]),\n",
       " array([-7.53153153, -5.96756757, -4.4036036 , -2.83963964, -1.27567568,\n",
       "         0.28828829,  1.85225225,  3.41621622,  4.98018018,  6.54414414,\n",
       "         8.10810811]),\n",
       " <a list of 10 Patch objects>)"
      ]
     },
     "execution_count": 95,
     "metadata": {},
     "output_type": "execute_result"
    },
    {
     "data": {
      "image/png": "[encoded data removed]",
      "text/plain": [
       "<Figure size 432x288 with 1 Axes>"
      ]
     },
     "metadata": {
      "needs_background": "light"
     },
     "output_type": "display_data"
    }
   ],
   "source": [
    "# 정규성 검정\n",
    "plt.hist(result.resid)"
   ]
  },
  {
   "cell_type": "code",
   "execution_count": 96,
   "metadata": {},
   "outputs": [
    {
     "data": {
      "text/plain": [
       "<matplotlib.collections.PathCollection at 0x7f84f1f14b50>"
      ]
     },
     "execution_count": 96,
     "metadata": {},
     "output_type": "execute_result"
    },
    {
     "data": {
      "image/png": "[encoded data removed]",
      "text/plain": [
       "<Figure size 432x288 with 1 Axes>"
      ]
     },
     "metadata": {
      "needs_background": "light"
     },
     "output_type": "display_data"
    }
   ],
   "source": [
    "# 등분산성 검정\n",
    "plt.scatter(result.fittedvalues, result.resid)"
   ]
  },
  {
   "cell_type": "code",
   "execution_count": 97,
   "metadata": {},
   "outputs": [
    {
     "data": {
      "text/plain": [
       "<matplotlib.lines.Line2D at 0x7f84f1e90950>"
      ]
     },
     "execution_count": 97,
     "metadata": {},
     "output_type": "execute_result"
    },
    {
     "data": {
      "image/png": "[encoded data removed]",
      "text/plain": [
       "<Figure size 432x288 with 1 Axes>"
      ]
     },
     "metadata": {
      "needs_background": "light"
     },
     "output_type": "display_data"
    }
   ],
   "source": [
    "# 독립성 검정(관리도)\n",
    "plt.scatter(range(0,10), result.resid, marker='o')\n",
    "plt.axhline(y=0, linestyle=\"-\")\n",
    "plt.axhline(y=3*np.std(result.resid),linestyle=\"--\")\n",
    "plt.axhline(y=-3*np.std(result.resid),linestyle=\"--\")"
   ]
  },
  {
   "cell_type": "markdown",
   "metadata": {},
   "source": [
    "## [과제3] 단순선형회귀"
   ]
  },
  {
   "cell_type": "code",
   "execution_count": 99,
   "metadata": {},
   "outputs": [
    {
     "name": "stdout",
     "output_type": "stream",
     "text": [
      "                            OLS Regression Results                            \n",
      "==============================================================================\n",
      "Dep. Variable:                      y   R-squared:                       0.646\n",
      "Model:                            OLS   Adj. R-squared:                  0.627\n",
      "Method:                 Least Squares   F-statistic:                     32.90\n",
      "Date:                Thu, 23 Jan 2020   Prob (F-statistic):           1.95e-05\n",
      "Time:                        16:18:42   Log-Likelihood:                 46.530\n",
      "No. Observations:                  20   AIC:                            -89.06\n",
      "Df Residuals:                      18   BIC:                            -87.07\n",
      "Df Model:                           1                                         \n",
      "Covariance Type:            nonrobust                                         \n",
      "==============================================================================\n",
      "                 coef    std err          t      P>|t|      [0.025      0.975]\n",
      "------------------------------------------------------------------------------\n",
      "const          0.0023      0.135      0.017      0.987      -0.281       0.286\n",
      "x1             0.0209      0.004      5.736      0.000       0.013       0.029\n",
      "==============================================================================\n",
      "Omnibus:                        2.651   Durbin-Watson:                   1.128\n",
      "Prob(Omnibus):                  0.266   Jarque-Bera (JB):                1.168\n",
      "Skew:                           0.047   Prob(JB):                        0.558\n",
      "Kurtosis:                       1.820   Cond. No.                         898.\n",
      "==============================================================================\n",
      "\n",
      "Warnings:\n",
      "[1] Standard Errors assume that the covariance matrix of the errors is correctly specified.\n"
     ]
    }
   ],
   "source": [
    "STRENGTH = [37.6,38.6,37.2,36.4,38.6,39,37.2,36.1,35.9,37.1,\n",
    "            36.9,37.5,36.3,38.1,39,36.9,36.8,37.6,33,33.5]\n",
    "BTIME = [0.798922,0.84902,0.816163,0.758266,0.815894,0.807477,0.809068,0.7664,0.742243,\n",
    "         0.751118,0.740629,0.751495,0.738863,0.827428,0.818172,0.740939,0.757128,0.804695,0.695121,0.735377]\n",
    "\n",
    "STRENGTH = sm.add_constant(STRENGTH)\n",
    "model = sm.OLS(BTIME,STRENGTH)\n",
    "result = model.fit()\n",
    "\n",
    "print(result.summary())"
   ]
  },
  {
   "cell_type": "code",
   "execution_count": 104,
   "metadata": {},
   "outputs": [
    {
     "data": {
      "text/plain": [
       "(0.9451944828033447, 0.29996079206466675)"
      ]
     },
     "execution_count": 104,
     "metadata": {},
     "output_type": "execute_result"
    },
    {
     "data": {
      "image/png": "[encoded data removed]",
      "text/plain": [
       "<Figure size 432x288 with 1 Axes>"
      ]
     },
     "metadata": {
      "needs_background": "light"
     },
     "output_type": "display_data"
    }
   ],
   "source": [
    "# 정규성 검정\n",
    "plt.hist(result.resid)\n",
    "shapiro(result.resid) # 정규성 없음"
   ]
  },
  {
   "cell_type": "markdown",
   "metadata": {},
   "source": [
    "**[정규성]**\n",
    "1. 가설설립\n",
    " * 귀무가설 : 정규성이 없다\n",
    " * 대립가설 : 정규성이 있다\n",
    " \n",
    " \n",
    "2. 가설검정\n",
    " * 검정통계량 : 0.945\n",
    " * p-value : 0.299\n",
    " * 유의수준 : 0.05\n",
    " \n",
    " \n",
    "3. 검정결과 판단\n",
    " * p-value > 유의수준 이므로 정규성이 없다\n",
    " \n",
    " \n",
    "4. 결론\n",
    " * 정규성이 없다"
   ]
  },
  {
   "cell_type": "code",
   "execution_count": 106,
   "metadata": {},
   "outputs": [
    {
     "data": {
      "text/plain": [
       "<matplotlib.lines.Line2D at 0x7f84f1718790>"
      ]
     },
     "execution_count": 106,
     "metadata": {},
     "output_type": "execute_result"
    },
    {
     "data": {
      "image/png": "[encoded data removed]",
      "text/plain": [
       "<Figure size 432x288 with 1 Axes>"
      ]
     },
     "metadata": {
      "needs_background": "light"
     },
     "output_type": "display_data"
    }
   ],
   "source": [
    "# 등분산성 검정\n",
    "plt.scatter(result.fittedvalues, result.resid)\n",
    "plt.xlabel(\"fitted value\")\n",
    "plt.ylabel(\"residual\")\n",
    "plt.axhline(y=0, linestyle=\"-\")"
   ]
  },
  {
   "cell_type": "markdown",
   "metadata": {},
   "source": [
    "**[등분산성]**\n",
    "* 잔차들이 수평축 0을 중심으로 일정한 경향을 가지고 랜덤하게 나타나지 않았다.\n",
    "* 예측값이 증가함에 따라 퍼진 정도가 증가하는 모습을 보인다.\n",
    "* 따라서 등분산성을 하지 않는다고 할 수 있다."
   ]
  },
  {
   "cell_type": "code",
   "execution_count": 103,
   "metadata": {},
   "outputs": [
    {
     "data": {
      "text/plain": [
       "<matplotlib.lines.Line2D at 0x7f84f186ded0>"
      ]
     },
     "execution_count": 103,
     "metadata": {},
     "output_type": "execute_result"
    },
    {
     "data": {
      "image/png": "[encoded data removed]",
      "text/plain": [
       "<Figure size 432x288 with 1 Axes>"
      ]
     },
     "metadata": {
      "needs_background": "light"
     },
     "output_type": "display_data"
    }
   ],
   "source": [
    "# 독립성 검정(관리도)\n",
    "plt.scatter(range(0,20), result.resid, marker='o')\n",
    "plt.axhline(y=0, linestyle=\"-\")\n",
    "plt.axhline(y=3*np.std(result.resid),linestyle=\"--\")\n",
    "plt.axhline(y=-3*np.std(result.resid),linestyle=\"--\")"
   ]
  },
  {
   "cell_type": "markdown",
   "metadata": {},
   "source": [
    "**[독립성]**\n",
    "* 앞서 result.summary()의 결과값을 보면 Durbin-Watson 값이 1.128 임을 확인할 수 있다. 해당 값은 0과 2 사이에 존재하고, 0에 밀접하게 근접하지는 않기 때문에 약한 양의 상관관계라고 볼 수 있다."
   ]
  },
  {
   "cell_type": "code",
   "execution_count": null,
   "metadata": {},
   "outputs": [],
   "source": []
  }
 ],
 "metadata": {
  "kernelspec": {
   "display_name": "Python 3",
   "language": "python",
   "name": "python3"
  },
  "language_info": {
   "codemirror_mode": {
    "name": "ipython",
    "version": 3
   },
   "file_extension": ".py",
   "mimetype": "text/x-python",
   "name": "python",
   "nbconvert_exporter": "python",
   "pygments_lexer": "ipython3",
   "version": "3.7.4"
  }
 },
 "nbformat": 4,
 "nbformat_minor": 2
}
