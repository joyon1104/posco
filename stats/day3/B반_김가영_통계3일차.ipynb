{
 "cells": [
  {
   "cell_type": "code",
   "execution_count": 1,
   "metadata": {},
   "outputs": [],
   "source": [
    "import numpy as np\n",
    "from scipy import stats\n",
    "import scipy.stats\n",
    "import pandas as pd\n",
    "import statsmodels.api as sm\n",
    "import matplotlib.pyplot as plt\n",
    "import seaborn as sns\n",
    "from scipy.stats import shapiro\n",
    "from statsmodels.stats.proportion import proportions_ztest"
   ]
  },
  {
   "cell_type": "markdown",
   "metadata": {},
   "source": [
    "# [과제1]"
   ]
  },
  {
   "cell_type": "code",
   "execution_count": 8,
   "metadata": {},
   "outputs": [
    {
     "name": "stdout",
     "output_type": "stream",
     "text": [
      "F 통계량: 4.172\n",
      "p-value: 0.019\n"
     ]
    }
   ],
   "source": [
    "import csv\n",
    "\n",
    "f = open('ANOVA.csv', 'r')\n",
    "reader = csv.reader(f)\n",
    "dic = {}\n",
    "i = 0\n",
    "\n",
    "for row in reader:\n",
    "    if i == 0:\n",
    "        i += 1\n",
    "        continue\n",
    "    if row[2] not in dic:\n",
    "        dic[row[2]] = []\n",
    "        dic[row[2]].append(row[0])\n",
    "    else:\n",
    "        dic[row[2]].append(row[0])\n",
    "\n",
    "df = pd.DataFrame(dic)\n",
    "\n",
    "f_result = stats.f_oneway(df['a'],df['b'],df['c'],df['d'])\n",
    "\n",
    "f,p = f_result.statistic.round(3), f_result.pvalue.round(3)\n",
    "\n",
    "print(\"F 통계량: {}\".format(f))\n",
    "print(\"p-value: {}\".format(p))"
   ]
  },
  {
   "cell_type": "markdown",
   "metadata": {},
   "source": [
    "1. 가설설립\n",
    " * 귀무가설 : 강종별 2차정련 시간에 차이가 있다고 할 수 없다.\n",
    " * 대립가설 : 강종별 2차정련 시간에 차이가 있다고 할 수 있다.\n",
    " \n",
    " \n",
    "2. 가설검정\n",
    " * 검정통계량 : 4.172\n",
    " * p-value : 0.019\n",
    " * 유의수준 : 0.05\n",
    " \n",
    " \n",
    "3. 검정결과 판단\n",
    " * p-value < 유의수준 이므로 귀무가설을 기각한다.\n",
    " \n",
    " \n",
    "4. 결론\n",
    " * 강종별 2차정련 시간에 차이가 있다고 할 수 있다."
   ]
  },
  {
   "cell_type": "markdown",
   "metadata": {},
   "source": [
    "# [과제2]"
   ]
  },
  {
   "cell_type": "code",
   "execution_count": 9,
   "metadata": {},
   "outputs": [
    {
     "name": "stdout",
     "output_type": "stream",
     "text": [
      "corr: -0.723\n",
      "p-value: 0.000\n"
     ]
    }
   ],
   "source": [
    "df1 = [37.6,38.6,37.2,36.4,38.6,39,37.2,36.1,35.9,37.1,36.9,37.5,36.3,38.1,39,36.9,36.8,37.6,33,33.5]\n",
    "df2 = [14,15,14,16,17,14,17,16,15,16,14,16,18,13,15,17,14,16,20,21]\n",
    "\n",
    "corr,pval = stats.pearsonr(df1,df2)\n",
    "\n",
    "print(\"corr: {:.3f}\".format(corr))\n",
    "print(\"p-value: {:.3f}\".format(pval))"
   ]
  },
  {
   "cell_type": "markdown",
   "metadata": {},
   "source": [
    "1. 가설설립\n",
    " * 귀무가설 : 초코칩의 강도와 재료 반죽온도간에 상관성이 있다고 할 수 없다.\n",
    " * 대립가설 : 초코칩의 강도와 재료 반죽온도간에 상관성이 있다고 할 수 있다.\n",
    " \n",
    " \n",
    "2. 가설검정\n",
    " * p-value : 0.000\n",
    " * 유의수준 : 0.05\n",
    " \n",
    " \n",
    "3. 검정결과 판단\n",
    " * p-value < 유의수준 이므로 귀무가설을 기각한다.\n",
    " \n",
    " \n",
    "4. 결론\n",
    " * 초코칩의 강도와 재료 반죽온도간에 상관성이 있다고 할 수 있다."
   ]
  },
  {
   "cell_type": "markdown",
   "metadata": {},
   "source": [
    "# [과제3]"
   ]
  },
  {
   "cell_type": "code",
   "execution_count": 2,
   "metadata": {},
   "outputs": [
    {
     "name": "stdout",
     "output_type": "stream",
     "text": [
      "                            OLS Regression Results                            \n",
      "==============================================================================\n",
      "Dep. Variable:                      y   R-squared:                       0.646\n",
      "Model:                            OLS   Adj. R-squared:                  0.627\n",
      "Method:                 Least Squares   F-statistic:                     32.90\n",
      "Date:                Tue, 28 Jan 2020   Prob (F-statistic):           1.95e-05\n",
      "Time:                        13:12:40   Log-Likelihood:                 46.530\n",
      "No. Observations:                  20   AIC:                            -89.06\n",
      "Df Residuals:                      18   BIC:                            -87.07\n",
      "Df Model:                           1                                         \n",
      "Covariance Type:            nonrobust                                         \n",
      "==============================================================================\n",
      "                 coef    std err          t      P>|t|      [0.025      0.975]\n",
      "------------------------------------------------------------------------------\n",
      "const          0.0023      0.135      0.017      0.987      -0.281       0.286\n",
      "x1             0.0209      0.004      5.736      0.000       0.013       0.029\n",
      "==============================================================================\n",
      "Omnibus:                        2.651   Durbin-Watson:                   1.128\n",
      "Prob(Omnibus):                  0.266   Jarque-Bera (JB):                1.168\n",
      "Skew:                           0.047   Prob(JB):                        0.558\n",
      "Kurtosis:                       1.820   Cond. No.                         898.\n",
      "==============================================================================\n",
      "\n",
      "Warnings:\n",
      "[1] Standard Errors assume that the covariance matrix of the errors is correctly specified.\n"
     ]
    }
   ],
   "source": [
    "STRENGTH = [37.6,38.6,37.2,36.4,38.6,39,37.2,36.1,35.9,37.1,\n",
    "            36.9,37.5,36.3,38.1,39,36.9,36.8,37.6,33,33.5]\n",
    "BTIME = [0.798922,0.84902,0.816163,0.758266,0.815894,0.807477,0.809068,0.7664,0.742243,\n",
    "         0.751118,0.740629,0.751495,0.738863,0.827428,0.818172,0.740939,0.757128,0.804695,0.695121,0.735377]\n",
    "\n",
    "STRENGTH = sm.add_constant(STRENGTH)\n",
    "model = sm.OLS(BTIME,STRENGTH)\n",
    "result = model.fit()\n",
    "\n",
    "print(result.summary())"
   ]
  },
  {
   "cell_type": "code",
   "execution_count": 4,
   "metadata": {},
   "outputs": [
    {
     "data": {
      "text/plain": [
       "(0.9451944828033447, 0.29996079206466675)"
      ]
     },
     "execution_count": 4,
     "metadata": {},
     "output_type": "execute_result"
    },
    {
     "data": {
      "image/png": "[encoded data removed]",
      "text/plain": [
       "<Figure size 432x288 with 1 Axes>"
      ]
     },
     "metadata": {
      "needs_background": "light"
     },
     "output_type": "display_data"
    }
   ],
   "source": [
    "# 정규성 검정\n",
    "plt.hist(result.resid)\n",
    "shapiro(result.resid) # 정규성 없음"
   ]
  },
  {
   "cell_type": "markdown",
   "metadata": {},
   "source": [
    "**[정규성]**\n",
    "1. 가설설립\n",
    " * 귀무가설 : 정규성이 없다\n",
    " * 대립가설 : 정규성이 있다\n",
    " \n",
    " \n",
    "2. 가설검정\n",
    " * 검정통계량 : 0.945\n",
    " * p-value : 0.299\n",
    " * 유의수준 : 0.05\n",
    " \n",
    " \n",
    "3. 검정결과 판단\n",
    " * p-value > 유의수준 이므로 정규성이 없다\n",
    " \n",
    " \n",
    "4. 결론\n",
    " * 정규성이 없다"
   ]
  },
  {
   "cell_type": "code",
   "execution_count": 12,
   "metadata": {},
   "outputs": [
    {
     "data": {
      "text/plain": [
       "<matplotlib.lines.Line2D at 0x7f886758d1d0>"
      ]
     },
     "execution_count": 12,
     "metadata": {},
     "output_type": "execute_result"
    },
    {
     "data": {
      "image/png": "[encoded data removed]",
      "text/plain": [
       "<Figure size 432x288 with 1 Axes>"
      ]
     },
     "metadata": {
      "needs_background": "light"
     },
     "output_type": "display_data"
    }
   ],
   "source": [
    "# 등분산성 검정\n",
    "plt.scatter(result.fittedvalues, result.resid)\n",
    "plt.xlabel(\"fitted value\")\n",
    "plt.ylabel(\"residual\")\n",
    "plt.axhline(y=0, linestyle=\"-\")"
   ]
  },
  {
   "cell_type": "markdown",
   "metadata": {},
   "source": [
    "**[등분산성]**\n",
    "* 잔차들이 수평축 0을 중심으로 일정한 경향을 가지고 랜덤하게 나타나지 않았다.\n",
    "* 예측값이 증가함에 따라 퍼진 정도가 증가하는 모습을 보인다.\n",
    "* 따라서 등분산성을 하지 않는다고 할 수 있다.\n"
   ]
  },
  {
   "cell_type": "code",
   "execution_count": 13,
   "metadata": {},
   "outputs": [
    {
     "data": {
      "text/plain": [
       "<matplotlib.lines.Line2D at 0x7f8867544c10>"
      ]
     },
     "execution_count": 13,
     "metadata": {},
     "output_type": "execute_result"
    },
    {
     "data": {
      "image/png": "[encoded data removed]",
      "text/plain": [
       "<Figure size 432x288 with 1 Axes>"
      ]
     },
     "metadata": {
      "needs_background": "light"
     },
     "output_type": "display_data"
    }
   ],
   "source": [
    "# 독립성 검정(관리도)\n",
    "plt.scatter(range(0,20), result.resid, marker='o')\n",
    "plt.axhline(y=0, linestyle=\"-\")\n",
    "plt.axhline(y=3*np.std(result.resid),linestyle=\"--\")\n",
    "plt.axhline(y=-3*np.std(result.resid),linestyle=\"--\")"
   ]
  },
  {
   "cell_type": "markdown",
   "metadata": {},
   "source": [
    "**[독립성]**\n",
    "* 앞서 result.summary()의 결과값을 보면 Durbin-Watson 값이 1.128 임을 확인할 수 있다. 해당 값은 0과 2 사이에 존재하고, 0에 밀접하게 근접하지는 않기 때문에 약한 양의 상관관계라고 볼 수 있다."
   ]
  }
 ],
 "metadata": {
  "kernelspec": {
   "display_name": "Python 3",
   "language": "python",
   "name": "python3"
  },
  "language_info": {
   "codemirror_mode": {
    "name": "ipython",
    "version": 3
   },
   "file_extension": ".py",
   "mimetype": "text/x-python",
   "name": "python",
   "nbconvert_exporter": "python",
   "pygments_lexer": "ipython3",
   "version": "3.7.4"
  }
 },
 "nbformat": 4,
 "nbformat_minor": 2
}
