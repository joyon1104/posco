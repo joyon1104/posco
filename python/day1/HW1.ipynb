{
 "cells": [
  {
   "cell_type": "code",
   "execution_count": 1,
   "metadata": {
    "scrolled": true
   },
   "outputs": [
    {
     "name": "stdout",
     "output_type": "stream",
     "text": [
      "화씨온도: 100\n",
      "섭씨온도: 37.777778\n"
     ]
    }
   ],
   "source": [
    "f = int(input(\"화씨온도: \"))\n",
    "c = (f-32) * (5/9)\n",
    "print(\"섭씨온도: %f\" %(c))"
   ]
  },
  {
   "cell_type": "code",
   "execution_count": null,
   "metadata": {},
   "outputs": [],
   "source": [
    "money = int(input(\"투입한 돈: \"))\n",
    "price = int(input(\"물건값: \"))\n",
    "change = money - price\n",
    "coin1 = change // 500\n",
    "coin2 = (change - coin1*500) // 100\n",
    "print(\"500원짜리: %d개\" %coin1)\n",
    "print(\"100원짜리: %d개\" %coin2)"
   ]
  },
  {
   "cell_type": "code",
   "execution_count": null,
   "metadata": {},
   "outputs": [],
   "source": [
    "r = int(input(\"반지름을 입력하시오: \"))\n",
    "ans1 = 2 * 3.141592 * r\n",
    "ans2 = 3.141592 * r * r\n",
    "print(\"원 둘레: %.2f\" %ans1)\n",
    "print(\"원 넓이: %.2f\" %ans2)"
   ]
  },
  {
   "cell_type": "code",
   "execution_count": null,
   "metadata": {},
   "outputs": [],
   "source": [
    "numbers = input('Enter two integers: ')\n",
    "a,b = numbers.split()\n",
    "a = int(a)\n",
    "b = int(b)\n",
    "print(\"%d + %d = %d\" %(a,b,a+b))\n",
    "print(\"%d - %d = %d\" %(a,b,a-b))\n",
    "print(\"%d * %d = %d\" %(a,b,a*b))\n",
    "print(\"%d / %d = %.1f\" %(a,b,a/b))\n",
    "print(\"%d %% %d = %d\" %(a,b,a%b))"
   ]
  },
  {
   "cell_type": "code",
   "execution_count": null,
   "metadata": {},
   "outputs": [],
   "source": [
    "numbers = input('Enter two integers: ')\n",
    "a,b = numbers.split()\n",
    "a = int(a)\n",
    "b = int(b)\n",
    "avg = (a+b)/2\n",
    "print(\"The sum of %d and %d is %d\" %(a,b,a+b))\n",
    "print(\"The average of numbers is %.1f\" %avg)"
   ]
  },
  {
   "cell_type": "code",
   "execution_count": null,
   "metadata": {},
   "outputs": [],
   "source": []
  }
 ],
 "metadata": {
  "kernelspec": {
   "display_name": "Python 3",
   "language": "python",
   "name": "python3"
  },
  "language_info": {
   "codemirror_mode": {
    "name": "ipython",
    "version": 3
   },
   "file_extension": ".py",
   "mimetype": "text/x-python",
   "name": "python",
   "nbconvert_exporter": "python",
   "pygments_lexer": "ipython3",
   "version": "3.7.4"
  }
 },
 "nbformat": 4,
 "nbformat_minor": 2
}
