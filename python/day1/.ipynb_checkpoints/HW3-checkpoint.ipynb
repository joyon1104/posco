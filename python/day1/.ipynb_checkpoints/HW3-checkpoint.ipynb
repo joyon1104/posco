{
 "cells": [
  {
   "cell_type": "code",
   "execution_count": 6,
   "metadata": {},
   "outputs": [
    {
     "name": "stdout",
     "output_type": "stream",
     "text": [
      "반지름을 입력하시오: 5\n",
      "원 둘레: 31.42\n",
      "원 넓이: 78.54\n"
     ]
    }
   ],
   "source": [
    "r = int(input(\"반지름을 입력하시오: \"))\n",
    "ans1 = 2 * 3.141592 * r\n",
    "ans2 = 3.141592 * r * r\n",
    "print(\"원 둘레: %.2f\" %ans1)\n",
    "print(\"원 넓이: %.2f\" %ans2)"
   ]
  }
 ],
 "metadata": {
  "kernelspec": {
   "display_name": "Python 3",
   "language": "python",
   "name": "python3"
  },
  "language_info": {
   "codemirror_mode": {
    "name": "ipython",
    "version": 3
   },
   "file_extension": ".py",
   "mimetype": "text/x-python",
   "name": "python",
   "nbconvert_exporter": "python",
   "pygments_lexer": "ipython3",
   "version": "3.7.4"
  }
 },
 "nbformat": 4,
 "nbformat_minor": 2
}
