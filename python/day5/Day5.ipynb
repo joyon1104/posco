{
 "cells": [
  {
   "cell_type": "markdown",
   "metadata": {},
   "source": [
    "# Numpy"
   ]
  },
  {
   "cell_type": "markdown",
   "metadata": {},
   "source": [
    "행렬 및 텐서 연산을 위한 파이썬 라이브러리"
   ]
  },
  {
   "cell_type": "code",
   "execution_count": 1,
   "metadata": {},
   "outputs": [],
   "source": [
    "import numpy"
   ]
  },
  {
   "cell_type": "markdown",
   "metadata": {},
   "source": [
    "## Array"
   ]
  },
  {
   "cell_type": "code",
   "execution_count": 3,
   "metadata": {},
   "outputs": [
    {
     "name": "stdout",
     "output_type": "stream",
     "text": [
      "<class 'numpy.ndarray'>\n",
      "(3,)\n",
      "1 2 3\n",
      "[5 2 3]\n",
      "(2, 3)\n",
      "1 2 4\n",
      "1\n"
     ]
    }
   ],
   "source": [
    "import numpy as np #np로 재정의\n",
    "\n",
    "a = np.array([1,2,3]) # 1차원 array [1,2,3] 생성\n",
    "print(type(a)) # numpy.ndarray\n",
    "print(a.shape) # a의 shape -> 튜플 리턴 => element가 하나일 때 튜플 표현방식: (3,)\n",
    "print(a[0], a[1], a[2]) # 인덱스로 접근\n",
    "a[0] = 5 # 수정\n",
    "print(a)\n",
    "\n",
    "b = np.array([[1,2,3],[4,5,6]]) # 2행 3열\n",
    "print(b.shape) # (2,3)\n",
    "print(b[0, 0], b[0, 1], b[1, 0]) # b[0,0] == b[0][0]\n",
    "print(b[0][0])"
   ]
  },
  {
   "cell_type": "code",
   "execution_count": 7,
   "metadata": {},
   "outputs": [
    {
     "name": "stdout",
     "output_type": "stream",
     "text": [
      "[[0. 0.]\n",
      " [0. 0.]]\n",
      "[[1. 1.]]\n",
      "[[7 7]\n",
      " [7 7]]\n",
      "[[1. 0.]\n",
      " [0. 1.]]\n",
      "[[0.59816974 0.985647  ]\n",
      " [0.48690671 0.4430534 ]]\n"
     ]
    }
   ],
   "source": [
    "import numpy as np\n",
    "\n",
    "# 모든 값이 0인 2x2 array 생성\n",
    "a = np.zeros([2,2]) \n",
    "print(a)\n",
    "\n",
    "# 모든 값이 1인 1x2 array 생성\n",
    "b = np.ones((1,2)) \n",
    "print(b)\n",
    "\n",
    "# 모든 값이 7인 2x2 array 생성\n",
    "c = np.full((2,2), 7) \n",
    "print(c)\n",
    "\n",
    "# 2x2 단위행렬(Identity matrix) 생성\n",
    "d = np.eye(2) \n",
    "print(d)\n",
    "\n",
    "# 0~1 랜덤 값을 가지는 2x2 array 생성\n",
    "e = np.random.random((2,2)) \n",
    "print(e)"
   ]
  },
  {
   "cell_type": "markdown",
   "metadata": {},
   "source": [
    "## Array Slicing"
   ]
  },
  {
   "cell_type": "markdown",
   "metadata": {},
   "source": [
    "배열의 일부를 가져다 오는 방법 -> :사용"
   ]
  },
  {
   "cell_type": "code",
   "execution_count": 11,
   "metadata": {},
   "outputs": [
    {
     "name": "stdout",
     "output_type": "stream",
     "text": [
      "[[2 3]\n",
      " [6 7]]\n",
      "2\n",
      "77\n"
     ]
    }
   ],
   "source": [
    "import numpy as np\n",
    "\n",
    "a = np.array([[1,2,3,4],[5,6,7,8],[9,10,11,12]])\n",
    "\n",
    "# 첫번째 행의 처음부터 2 앞까지(0,1), 두번째 행에서\n",
    "# 1부터 3 앞까지(1,2)의 값들을 떠와 b에 할당.\n",
    "# 따라서 b 는 다음과 같은 2x2 array:\n",
    "# [[2 3]\n",
    "# [6 7]]\n",
    "\n",
    "b = a[:2, 1:3] # a의 0,1행 1,2열 추출\n",
    "print(b)\n",
    "\n",
    "print(a[0, 1])\n",
    "b[0, 0] = 77 # b[0,0] == a[0,1]\n",
    "print(a[0, 1])\n",
    "# Slicing을 한다고 해서 값을 복사해가는 것이 아니므로\n",
    "# 값의 변화가 동시에 일어남"
   ]
  },
  {
   "cell_type": "code",
   "execution_count": 12,
   "metadata": {},
   "outputs": [
    {
     "name": "stdout",
     "output_type": "stream",
     "text": [
      "[5 6 7 8] (4,)\n",
      "[[5 6 7 8]] (1, 4)\n",
      "[ 2  6 10] (3,)\n",
      "[[ 2]\n",
      " [ 6]\n",
      " [10]] (3, 1)\n"
     ]
    }
   ],
   "source": [
    "import numpy as np\n",
    "# 2차원 배열(3x4) 생성\n",
    "# [[ 1 2 3 4]\n",
    "# [ 5 6 7 8]\n",
    "# [ 9 10 11 12]]\n",
    "a = np.array([[1,2,3,4],[5,6,7,8],[9,10,11,12]])\n",
    "\n",
    "# 두 번째 행의 값들을 모두 가져오는 두 가지 방법\n",
    "row_r1 = a[1, :] # 1차원 행렬 (4,)\n",
    "row_r2 = a[1:2, :] # 2차원 행렬 (1x4) – 기존 차원 유지\n",
    "print(row_r1, row_r1.shape)\n",
    "print(row_r2, row_r2.shape)\n",
    "\n",
    "# 두 번째 열의 값들을 모두 가져오는 두 가지 방법\n",
    "col_r1 = a[:,1]\n",
    "col_r2 = a[:,1:2]\n",
    "print(col_r1,col_r1.shape)\n",
    "print(col_r2,col_r2.shape)\n"
   ]
  },
  {
   "cell_type": "markdown",
   "metadata": {},
   "source": [
    "## Array Indexing"
   ]
  },
  {
   "cell_type": "code",
   "execution_count": 16,
   "metadata": {},
   "outputs": [
    {
     "name": "stdout",
     "output_type": "stream",
     "text": [
      "[1 4 5]\n",
      "[1 4 5]\n",
      "[1 4 5]\n",
      "[1 4 5]\n",
      "[2 2]\n",
      "[2 2]\n"
     ]
    }
   ],
   "source": [
    "import numpy as np\n",
    "# 2차원 배열(3x2) 생성\n",
    "# [[ 1 2]\n",
    "# [ 3 4]\n",
    "# [ 5 6]]\n",
    "\n",
    "a = np.array([[1, 2], [3, 4], [5, 6]])\n",
    "\n",
    "# [1 4 5] 1차원 행렬(3,)을 얻는 두 가지 방법\n",
    "b = np.array([a[0, 0], a[1, 1], a[2, 0]])\n",
    "print(b)\n",
    "c = np.array(a[[0, 1, 2], [0, 1, 0]]) # a[[행에 대한 리스트],[열에 대한 리스트]]\n",
    "print(c)\n",
    "print(a[[0, 1, 2], [0, 1, 0]])\n",
    "print(np.array([a[0, 0], a[1, 1], a[2, 0]]))\n",
    "\n",
    "# [2 2] 1차원 행렬(2,)을 얻는 두 가지 방법\n",
    "print(a[[0, 0], [1, 1]])\n",
    "print(np.array([a[0, 1], a[0, 1]]))"
   ]
  },
  {
   "cell_type": "code",
   "execution_count": 19,
   "metadata": {},
   "outputs": [
    {
     "name": "stdout",
     "output_type": "stream",
     "text": [
      "[[ 1  2  3]\n",
      " [ 4  5  6]\n",
      " [ 7  8  9]\n",
      " [10 11 12]]\n",
      "[0 1 2 3]\n",
      "[ 1  6  7 11]\n",
      "[ 1  6  7 11]\n",
      "[[11  2  3]\n",
      " [ 4  5 16]\n",
      " [17  8  9]\n",
      " [10 21 12]]\n"
     ]
    }
   ],
   "source": [
    "import numpy as np\n",
    "# 2차원 배열(4x3) 생성\n",
    "# [[ 1 2 3]\n",
    "# [ 4 5 6]\n",
    "# [ 7 8 9]\n",
    "# [ 10 11 12]]\n",
    "a = np.array([[1,2,3],[4,5,6],[7,8,9],[10,11,12]])\n",
    "print(a)\n",
    "\n",
    "print(np.arange(4))\n",
    "print(a[np.arange(4),b]) # arange(parameter) ->파라미터가 무조건 int 여야함..\n",
    "b = np.array([0, 2, 0, 1])\n",
    "print(a[np.arange(4), b]) # == a[[0,1,2,3],[0,2,0,1]] => [1 6 7 11]\n",
    "a[np.arange(4), b] += 10 # 각각의 1,6,7,11 에 10 더하기\n",
    "print(a) # array([[11, 2, 3],\n",
    "                #[ 4, 5, 16],\n",
    "                #[17, 8, 9],\n",
    "                #[10, 21, 12]])"
   ]
  },
  {
   "cell_type": "markdown",
   "metadata": {},
   "source": [
    "## 데이터 타입"
   ]
  },
  {
   "cell_type": "code",
   "execution_count": 20,
   "metadata": {},
   "outputs": [
    {
     "name": "stdout",
     "output_type": "stream",
     "text": [
      "int64\n",
      "float64\n",
      "int64\n"
     ]
    }
   ],
   "source": [
    "import numpy as np\n",
    "\n",
    "x = np.array([1, 2])\n",
    "print(x.dtype) # prints “int64”\n",
    "\n",
    "x = np.array([1.0, 2.0])\n",
    "print(x.dtype) # “float64”\n",
    "\n",
    "x = np.array([1, 2], dtype=np.int64) # 데이터타입 명시\n",
    "print(x.dtype) # “int64”"
   ]
  },
  {
   "cell_type": "markdown",
   "metadata": {},
   "source": [
    "## Array 연산"
   ]
  },
  {
   "cell_type": "markdown",
   "metadata": {},
   "source": [
    "연산하려는 두 개의 타입이 같아야 한다."
   ]
  },
  {
   "cell_type": "code",
   "execution_count": null,
   "metadata": {},
   "outputs": [],
   "source": [
    "import numpy as np\n",
    "\n",
    "x = np.array([[1, 2], [3, 4]], dtype=np.float64)\n",
    "y = np.array([[5, 6], [7, 8]], dtype=np.float64)\n",
    "\n",
    "# Elementwise sum\n",
    "# [[ 6.0 8.0]\n",
    "# [10.0 12.0]]\n",
    "print(x + y)\n",
    "print(np.add(x, y))\n",
    "\n",
    "# Elementwise difference\n",
    "# [[-4.0 -4.0]\n",
    "# [-4.0 -4.0]]\n",
    "print(x – y) \n",
    "print(np.subtract(x, y)) \n",
    "\n",
    "#Elementwise square root\n",
    "print(np.sqrt(x))\n",
    "\n",
    "#Elementwise product\n",
    "print(x * y)\n",
    "print(np.multiply(x, y))\n",
    "\n",
    "# Elementwise division\n",
    "print(x / y)\n",
    "print(np.divide(x, y))"
   ]
  },
  {
   "cell_type": "markdown",
   "metadata": {},
   "source": [
    "### Dot product"
   ]
  },
  {
   "cell_type": "code",
   "execution_count": 42,
   "metadata": {},
   "outputs": [
    {
     "name": "stdout",
     "output_type": "stream",
     "text": [
      "219\n",
      "219\n",
      "[29 67]\n",
      "[29 67]\n",
      "[[19 22]\n",
      " [43 50]]\n",
      "[[19 22]\n",
      " [43 50]]\n"
     ]
    }
   ],
   "source": [
    "import numpy as np\n",
    "x = np.array([[1, 2], [3, 4]])\n",
    "y = np.array([[5, 6], [7, 8]])\n",
    "v = np.array([9, 10])\n",
    "w = np.array([11, 12])\n",
    "\n",
    "# v · w = 219\n",
    "# 두가지 방법\n",
    "print(v.dot(w))\n",
    "print(np.dot(v, w))\n",
    "\n",
    "# 매트릭스 / 벡터 곱; [29 67]\n",
    "print(x.dot(v))\n",
    "print(np.dot(x, v))\n",
    "\n",
    "# 매트릭스 / 매트릭스 곱;\n",
    "# [[19 22]\n",
    "# [43 50]]\n",
    "print(x.dot(y))\n",
    "print(np.dot(x, y))"
   ]
  },
  {
   "cell_type": "markdown",
   "metadata": {},
   "source": [
    "### Sum"
   ]
  },
  {
   "cell_type": "code",
   "execution_count": 26,
   "metadata": {},
   "outputs": [
    {
     "name": "stdout",
     "output_type": "stream",
     "text": [
      "10\n",
      "[4 6]\n",
      "[3 7]\n"
     ]
    }
   ],
   "source": [
    "import numpy as np\n",
    "\n",
    "x = np.array([[1, 2], [3, 4]])\n",
    "print(np.sum(x))\n",
    "\n",
    "# 모든 원소의 합\n",
    "print(np.sum(x, axis=0)) # 각 열의 합\n",
    "print(np.sum(x, axis=1)) # 각 행의 합"
   ]
  },
  {
   "cell_type": "code",
   "execution_count": 28,
   "metadata": {},
   "outputs": [
    {
     "name": "stdout",
     "output_type": "stream",
     "text": [
      "24.0\n",
      "[[2. 2. 2. 2.]\n",
      " [2. 2. 2. 2.]\n",
      " [2. 2. 2. 2.]]\n",
      "(3, 4)\n",
      "[[3. 3. 3. 3.]\n",
      " [3. 3. 3. 3.]]\n",
      "(2, 4)\n"
     ]
    }
   ],
   "source": [
    "import numpy as np \n",
    "a = np.ones((2,3,4))\n",
    "# a.shape\n",
    "print(np.sum(a))\n",
    "print(np.sum(a, axis=0)) # 0번째 축이 없어진다고 생각 -> (2,3,4) => (3,4)\n",
    "print(np.sum(a, axis=0).shape)\n",
    "print(np.sum(a, axis=1)) # 1번째 축이 없어진다고 생각 -> (2,3,4) => (2,4)\n",
    "print(np.sum(a, axis=1).shape)"
   ]
  },
  {
   "cell_type": "markdown",
   "metadata": {},
   "source": [
    "### Transpose"
   ]
  },
  {
   "cell_type": "code",
   "execution_count": 29,
   "metadata": {},
   "outputs": [
    {
     "name": "stdout",
     "output_type": "stream",
     "text": [
      "[[1 2]\n",
      " [3 4]]\n",
      "[[1 3]\n",
      " [2 4]]\n",
      "[1 2 3]\n",
      "[1 2 3]\n"
     ]
    }
   ],
   "source": [
    "import numpy as np\n",
    "x = np.array([[1, 2], [3, 4]])\n",
    "print(x)\n",
    "print(x.T)  # 전치행렬 (Transposed mat.)\n",
    "\n",
    "v = np.array([1,2,3])\n",
    "print(v)  # prints “[1 2 3]”\n",
    "print(v.T)  # prints “[1 2 3]” -> 벡터는 바뀌지 않는다"
   ]
  },
  {
   "cell_type": "markdown",
   "metadata": {},
   "source": [
    "## Broadcasting"
   ]
  },
  {
   "cell_type": "markdown",
   "metadata": {},
   "source": [
    "x의 각각의 행에 v를 더하는 방법"
   ]
  },
  {
   "cell_type": "code",
   "execution_count": 31,
   "metadata": {},
   "outputs": [
    {
     "name": "stdout",
     "output_type": "stream",
     "text": [
      "[[4611686018427387904 4611686018427387904 4611686018427387904]\n",
      " [4611686018427387904 4611686018427387904 4611686018427387904]\n",
      " [4611686018427387904 4611686018427387904 4611686018427387904]\n",
      " [4611686018427387904 4611686018427387904 4611686018427387904]]\n",
      "[[ 2  2  4]\n",
      " [ 5  5  7]\n",
      " [ 8  8 10]\n",
      " [11 11 13]]\n"
     ]
    }
   ],
   "source": [
    "# 첫번째\n",
    "import numpy as np\n",
    "x = np.array([[1,2,3], \n",
    "              [4,5,6], \n",
    "              [7,8,9], \n",
    "              [10,11,12]])\n",
    "v = np.array([1,0,1])\n",
    "\n",
    "# x의 각 행에 v를 더하고자 함.\n",
    "y = np.empty_like(x) # x와 같은 shape의 빈 매트릭스 만들기\n",
    "# x의 각 행에 v와 elementwise 합을 하여 y의 해당 행에 할당\n",
    "for i in range(4): # 행 개수 == x.shape[0]\n",
    "    y[i, :] = x[i, :] + v # y[i,:] => y[i]로 쓸 수 있다.\n",
    "\n",
    "# [[ 2 2 4]\n",
    "# [[ 5 5 7]\n",
    "# [[ 8 8 10]\n",
    "# [ 11 11 13]]\n",
    "print(y)"
   ]
  },
  {
   "cell_type": "code",
   "execution_count": 32,
   "metadata": {},
   "outputs": [
    {
     "name": "stdout",
     "output_type": "stream",
     "text": [
      "[[1 0 1]\n",
      " [1 0 1]\n",
      " [1 0 1]\n",
      " [1 0 1]]\n",
      "[[ 2  2  4]\n",
      " [ 5  5  7]\n",
      " [ 8  8 10]\n",
      " [11 11 13]]\n"
     ]
    }
   ],
   "source": [
    "# 두번째\n",
    "import numpy as np\n",
    "x = np.array([[1,2,3], [4,5,6], [7,8,9], [10,11,12]])\n",
    "v = np.array([1,0,1])\n",
    "vv = np.tile(v, (4, 1)) # v 내용을 4x1의 각 행에 반복함\n",
    "\n",
    "print(vv)\n",
    "y = x + vv\n",
    "print(y)"
   ]
  },
  {
   "cell_type": "markdown",
   "metadata": {},
   "source": [
    "#### 세번째 -> Broadcasting"
   ]
  },
  {
   "cell_type": "code",
   "execution_count": 35,
   "metadata": {},
   "outputs": [
    {
     "name": "stdout",
     "output_type": "stream",
     "text": [
      "[[ 2  2  4]\n",
      " [ 5  5  7]\n",
      " [ 8  8 10]\n",
      " [11 11 13]]\n"
     ]
    }
   ],
   "source": [
    "import numpy as np\n",
    "x = np.array([[1,2,3], [4,5,6], [7,8,9], [10,11,12]]) # 4*3 행렬\n",
    "v = np.array([1,0,1]) # [1,3] 벡터\n",
    "\n",
    "# 브로드캐스팅을 사용하여 x의 각 행에 v값을 더함\n",
    "y = x + v\n",
    "print(y)"
   ]
  },
  {
   "cell_type": "code",
   "execution_count": 41,
   "metadata": {},
   "outputs": [
    {
     "name": "stdout",
     "output_type": "stream",
     "text": [
      "(3, 1)\n",
      "(3, 1)\n"
     ]
    }
   ],
   "source": [
    "# Broadcas([[1,-1],[2,0]])\n",
    "b = np.array([1,0])ting 가능, 불가능 여부\n",
    "# (4,3) (1,3) => O\n",
    "# (3,4) (3,1) => O\n",
    "# (3,4) (3,2) => X\n",
    "# (2,3,4) (1,3,1) => O\n",
    "# (4,3) (3,) => O\n",
    "# (3,4) (3,) => X\n",
    "# (3,4) (3,1) => O\n",
    "\n",
    "#(3,) -> (3,1) 하는 방법\n",
    "a = np.array([1,2,3])\n",
    "a1 = a.reshape([3,1])\n",
    "print(a1.shape) # => (3,1)\n",
    "a2 = a[:,None]\n",
    "print(a2.shape)"
   ]
  },
  {
   "cell_type": "markdown",
   "metadata": {},
   "source": [
    "## 연습문제2"
   ]
  },
  {
   "cell_type": "code",
   "execution_count": 46,
   "metadata": {},
   "outputs": [
    {
     "name": "stdout",
     "output_type": "stream",
     "text": [
      "[10.  5.]\n"
     ]
    }
   ],
   "source": [
    "import numpy as np\n",
    "\n",
    "x = np.array([[1,1],[2,1]])\n",
    "y = np.array([15,25])\n",
    "x_i = np.linalg.inv(x)\n",
    "print(x_i.dot(y))"
   ]
  },
  {
   "cell_type": "markdown",
   "metadata": {},
   "source": [
    "## pickle"
   ]
  },
  {
   "cell_type": "markdown",
   "metadata": {},
   "source": [
    "## 과제 3 - and_op.py"
   ]
  },
  {
   "cell_type": "code",
   "execution_count": 72,
   "metadata": {},
   "outputs": [
    {
     "name": "stdout",
     "output_type": "stream",
     "text": [
      "0\n",
      "0\n",
      "0\n",
      "1\n"
     ]
    }
   ],
   "source": [
    "import numpy as np\n",
    "\n",
    "x1 = np.array([0,0])\n",
    "x2 = np.array([0,1])\n",
    "x3 = np.array([1,0])\n",
    "x4 = np.array([1,1])\n",
    "W = np.array([[1,-1],[2,0]])\n",
    "b = np.array([1,0])\n",
    "\n",
    "print(np.argmax(W.dot(x1)+b))\n",
    "print(np.argmax(W.dot(x2)+b))\n",
    "print(np.argmax(W.dot(x3)+b))\n",
    "print(np.argmax(W.dot(x4)+b))"
   ]
  },
  {
   "cell_type": "code",
   "execution_count": 21,
   "metadata": {},
   "outputs": [
    {
     "data": {
      "text/plain": [
       "{1, 2, 3, 4}"
      ]
     },
     "execution_count": 21,
     "metadata": {},
     "output_type": "execute_result"
    }
   ],
   "source": []
  },
  {
   "cell_type": "code",
   "execution_count": null,
   "metadata": {},
   "outputs": [],
   "source": []
  },
  {
   "cell_type": "code",
   "execution_count": null,
   "metadata": {},
   "outputs": [],
   "source": []
  },
  {
   "cell_type": "code",
   "execution_count": null,
   "metadata": {},
   "outputs": [],
   "source": []
  },
  {
   "cell_type": "code",
   "execution_count": null,
   "metadata": {},
   "outputs": [],
   "source": []
  },
  {
   "cell_type": "code",
   "execution_count": null,
   "metadata": {},
   "outputs": [],
   "source": []
  },
  {
   "cell_type": "code",
   "execution_count": null,
   "metadata": {},
   "outputs": [],
   "source": []
  },
  {
   "cell_type": "code",
   "execution_count": null,
   "metadata": {},
   "outputs": [],
   "source": []
  },
  {
   "cell_type": "code",
   "execution_count": null,
   "metadata": {},
   "outputs": [],
   "source": []
  },
  {
   "cell_type": "code",
   "execution_count": null,
   "metadata": {},
   "outputs": [],
   "source": []
  }
 ],
 "metadata": {
  "kernelspec": {
   "display_name": "Python 3",
   "language": "python",
   "name": "python3"
  },
  "language_info": {
   "codemirror_mode": {
    "name": "ipython",
    "version": 3
   },
   "file_extension": ".py",
   "mimetype": "text/x-python",
   "name": "python",
   "nbconvert_exporter": "python",
   "pygments_lexer": "ipython3",
   "version": "3.7.4"
  }
 },
 "nbformat": 4,
 "nbformat_minor": 2
}
