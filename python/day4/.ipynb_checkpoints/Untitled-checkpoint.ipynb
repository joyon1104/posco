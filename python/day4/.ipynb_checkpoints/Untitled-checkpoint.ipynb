{
 "cells": [
  {
   "cell_type": "markdown",
   "metadata": {},
   "source": [
    "# 함수와 모듈"
   ]
  },
  {
   "cell_type": "markdown",
   "metadata": {},
   "source": [
    "## 과제 1"
   ]
  },
  {
   "cell_type": "markdown",
   "metadata": {},
   "source": [
    "소수 판단하는 함수 정의하기\n",
    "소수이면, True 반환\n",
    "아니면, False 반환"
   ]
  },
  {
   "cell_type": "code",
   "execution_count": 14,
   "metadata": {},
   "outputs": [
    {
     "name": "stdout",
     "output_type": "stream",
     "text": [
      "13는 소수입니다.\n",
      "15는 소수가 아닙니다.\n"
     ]
    }
   ],
   "source": [
    "def check_prime(num):\n",
    "    tf = True\n",
    "    if num == 1:\n",
    "        tf = False\n",
    "    elif num == 2 or num == 3:\n",
    "        tf = True\n",
    "    elif num%2 == 0:\n",
    "        tf = False\n",
    "    else:\n",
    "        for i in range(3,num,2):\n",
    "            if num % i == 0:\n",
    "                tf = False\n",
    "    return tf\n",
    "\n",
    "def main():\n",
    "    a = 13\n",
    "    b = 15\n",
    "    if check_prime(a):\n",
    "        print(str(a)+'는 소수입니다.')\n",
    "    else:\n",
    "        print(str(a)+'는 소수가 아닙니다.')\n",
    "    if check_prime(b):\n",
    "        print(str(b)+'는 소수입니다.')\n",
    "    else:\n",
    "        print(str(b)+'는 소수가 아닙니다.')\n",
    "        \n",
    "if __name__=='__main__': # 파일 제일 아래에 작성\n",
    "    main()"
   ]
  },
  {
   "cell_type": "markdown",
   "metadata": {},
   "source": [
    "## 과제 2"
   ]
  },
  {
   "cell_type": "markdown",
   "metadata": {},
   "source": [
    "천 단위마다 쉼표(,) 추가하는 함수 정의하기"
   ]
  },
  {
   "cell_type": "markdown",
   "metadata": {},
   "source": [
    "1000000(int)이면, ‘1,000,000’(str) 반환"
   ]
  },
  {
   "cell_type": "code",
   "execution_count": 82,
   "metadata": {},
   "outputs": [
    {
     "name": "stdout",
     "output_type": "stream",
     "text": [
      "1,234\n",
      "12,345,678\n",
      "12\n"
     ]
    }
   ],
   "source": [
    "def add_comma(val):\n",
    "    val = str(val)\n",
    "    res = \"\"\n",
    "    for i in range(-1,-(len(val))-1,-1):\n",
    "        res = val[i] + res\n",
    "        if i % 3 == 0:\n",
    "            res = \",\" + res\n",
    "    if res[0] == \",\":\n",
    "        res = res[1:]\n",
    "    return res\n",
    "\n",
    "def main():\n",
    "    comma_added_1234 = add_comma(1234)\n",
    "    comma_added_12345678 = add_comma(12345678)\n",
    "    comma_added_12 = add_comma(12)\n",
    "    \n",
    "    print(comma_added_1234)\n",
    "    print(comma_added_12345678)\n",
    "    print(comma_added_12)\n",
    "\n",
    "if __name__=='__main__': # 파일 제일 아래에 작성\n",
    "    main()"
   ]
  },
  {
   "cell_type": "markdown",
   "metadata": {},
   "source": [
    "## 과제 3"
   ]
  },
  {
   "cell_type": "code",
   "execution_count": 54,
   "metadata": {},
   "outputs": [
    {
     "name": "stdout",
     "output_type": "stream",
     "text": [
      "['There', 'was', 'a', 'farmer', 'who', 'had', 'a', 'dog', '.']\n",
      "['There was', 'was a', 'a farmer', 'farmer who', 'who had', 'had a', 'a dog', 'dog .']\n"
     ]
    }
   ],
   "source": [
    "def tokenize(trg, N=1):\n",
    "    base = trg.split()\n",
    "    res = []\n",
    "    for i in range(0,len(base)-(N-1)):\n",
    "        ng = base[i:i+N]\n",
    "        res.append(' '.join(ng))\n",
    "    return res\n",
    "    \n",
    "def main():\n",
    "    a= 'There was a farmer who had a dog .'\n",
    "    print(tokenize(a))\n",
    "    print(tokenize(a, 2))\n",
    "\n",
    "if __name__=='__main__': # 파일 제일 아래에 작성\n",
    "    main()"
   ]
  },
  {
   "cell_type": "markdown",
   "metadata": {},
   "source": [
    "## 과제 4"
   ]
  },
  {
   "cell_type": "markdown",
   "metadata": {},
   "source": [
    "여러 벡터를 입력받아, 평균(Mean)과 분산\n",
    "(Variance)을 구하는 함수 정의하기"
   ]
  },
  {
   "cell_type": "code",
   "execution_count": 78,
   "metadata": {},
   "outputs": [
    {
     "name": "stdout",
     "output_type": "stream",
     "text": [
      "평균:  (0.5, 0.5) 분산:  (0.16666666666666666, 0.16666666666666666)\n"
     ]
    }
   ],
   "source": [
    "def mean_and_var(*val): #가변 매개변수\n",
    "    x = 0; y = 0\n",
    "    for v in val:\n",
    "        x += v[0]\n",
    "        y += v[1]\n",
    "    m = (x/len(val), y/len(val))\n",
    "    a = 0; b = 0\n",
    "    for v in val:\n",
    "        a += pow(v[0]-m[0],2)\n",
    "        b += pow(v[1]-m[1],2)\n",
    "    var = (a/len(val), b/len(val))\n",
    "    return m, var\n",
    "\n",
    "def main():\n",
    "    v1=(0, 1)\n",
    "    v2=(0.5, 0.5)\n",
    "    v3=(1, 0)\n",
    "    m, var = mean_and_var(v1, v2, v3)\n",
    "    print('평균: ', m, '분산: ', var)\n",
    "\n",
    "if __name__=='__main__': # 파일 제일 아래에 작성\n",
    "    main()"
   ]
  },
  {
   "cell_type": "markdown",
   "metadata": {},
   "source": [
    "# OOP와 Numpy"
   ]
  },
  {
   "cell_type": "markdown",
   "metadata": {},
   "source": [
    "## 과제 1"
   ]
  },
  {
   "cell_type": "code",
   "execution_count": 115,
   "metadata": {},
   "outputs": [
    {
     "name": "stdout",
     "output_type": "stream",
     "text": [
      "[1, 2, 3, 4]\n",
      "[1, 4]\n",
      "[2, 3]\n",
      "[1, 2, 3, 4]\n",
      "[1, 4]\n",
      "[2, 3]\n"
     ]
    }
   ],
   "source": [
    "class Set:\n",
    "    def __init__(self, member=[]):\n",
    "        self.member=member\n",
    "        # Should be implemented\n",
    "    def append(self, a):\n",
    "        if a not in self.member:\n",
    "            self.member.append(a)\n",
    "    def delete(self, a):\n",
    "        self.member.remove(a)\n",
    "    def union(self, s2):\n",
    "        ls = self.member + [x for x in s2.member if x not in self.member]\n",
    "        return ls\n",
    "    def intersection(self, s2):\n",
    "        return [x for x in self.member if x in s2.member]\n",
    "    def difference(self, s2):\n",
    "        L1 = [x for x in self.member if x not in self.intersection(s2)]\n",
    "        L2 = [x for x in s2.member if x not in self.intersection(s2)]\n",
    "        return L1+L2\n",
    "    # 연산자 오버로딩\n",
    "    def __add__(self, another):\n",
    "        return self.union(another)\n",
    "    def __sub__(self, another):\n",
    "        return self.difference(another)\n",
    "    def __truediv__(self,another):\n",
    "        return self.intersection(another)\n",
    "    \n",
    "# print\n",
    "a = Set([1, 2, 3])\n",
    "b = Set([2, 3, 4])\n",
    "c = a.union(b)\n",
    "print(c)\n",
    "d = a.difference(b)\n",
    "print(d)\n",
    "e = a.intersection(b)\n",
    "print(e)\n",
    "\n",
    "# 연산자 오버로딩 테스트\n",
    "c = a + b\n",
    "print(c)\n",
    "d = a - b\n",
    "print(d)\n",
    "e = a / b\n",
    "print(e)"
   ]
  },
  {
   "cell_type": "markdown",
   "metadata": {},
   "source": [
    "## 과제 2"
   ]
  },
  {
   "cell_type": "code",
   "execution_count": 138,
   "metadata": {},
   "outputs": [
    {
     "name": "stdout",
     "output_type": "stream",
     "text": [
      "제 이름은 Kim, 나이는 30, 학과는 Computer, 지도교수님은 Lee 입니다\n",
      "제 이름은 Lee, 나이는 22, 학과는 Computer, 지도교수님은 Lee 입니다\n",
      "제 이름은 Lee, 나이는 55, 학과는 Computer, 지도학생은 Kim, Lee 입니다\n"
     ]
    }
   ],
   "source": [
    "class Person:\n",
    "    def __init__(self, name='', age=0, department=''):\n",
    "        self.name = name\n",
    "        self.age = age\n",
    "        self.department = department\n",
    "    def get_name(self):\n",
    "        return self.name\n",
    "\n",
    "class Student(Person):\n",
    "    def __init__(self, name='', age=0, department='', ID='', gpa=0):\n",
    "        Person.__init__(self, name=name, age=age, department=department)\n",
    "        self.ID = id\n",
    "        self.gpa = gpa\n",
    "        self.professor = Professor()\n",
    "    def print_info(self):\n",
    "        print(\"제 이름은 %s, 나이는 %d, 학과는 %s, 지도교수님은 %s 입니다\" %(self.name,self.age,self.department,self.professor.name))\n",
    "    def reg_advisor(self, prof):\n",
    "        self.professor = prof\n",
    "\n",
    "class Professor(Person):\n",
    "    def __init__(self, name='', age=0, department='', position='', laboratory=''):\n",
    "        Person.__init__(self, name=name, age=age, department=department)\n",
    "        self.position = position\n",
    "        self.laboratory = laboratory\n",
    "        self.student = []\n",
    "    def print_info(self):\n",
    "        if self.student == []:\n",
    "            stu = ''\n",
    "        else:\n",
    "            stu = \", \".join(self.student)\n",
    "        print(\"제 이름은 %s, 나이는 %d, 학과는 %s, 지도학생은 %s 입니다\" %(self.name,self.age,self.department,stu))\n",
    "    def reg_student(self, stu):\n",
    "        self.student.append(stu.name)\n",
    "    \n",
    "stu1 = Student('Kim', 30, 'Computer',20001234, 4.5)\n",
    "stu2 = Student('Lee', 22, 'Computer',20101234, 0.5)\n",
    "prof1 = Professor('Lee', 55, 'Computer','Full', 'KLE')\n",
    "\n",
    "stu1.reg_advisor(prof1)\n",
    "stu2.reg_advisor(prof1)\n",
    "prof1.reg_student(stu1)\n",
    "prof1.reg_student(stu2)\n",
    "\n",
    "stu1.print_info()\n",
    "stu2.print_info()\n",
    "prof1.print_info()\n"
   ]
  },
  {
   "cell_type": "markdown",
   "metadata": {},
   "source": [
    "## 과제3"
   ]
  },
  {
   "cell_type": "code",
   "execution_count": null,
   "metadata": {},
   "outputs": [],
   "source": []
  },
  {
   "cell_type": "code",
   "execution_count": null,
   "metadata": {},
   "outputs": [],
   "source": []
  },
  {
   "cell_type": "code",
   "execution_count": null,
   "metadata": {},
   "outputs": [],
   "source": []
  },
  {
   "cell_type": "code",
   "execution_count": null,
   "metadata": {},
   "outputs": [],
   "source": []
  }
 ],
 "metadata": {
  "kernelspec": {
   "display_name": "Python 3",
   "language": "python",
   "name": "python3"
  },
  "language_info": {
   "codemirror_mode": {
    "name": "ipython",
    "version": 3
   },
   "file_extension": ".py",
   "mimetype": "text/x-python",
   "name": "python",
   "nbconvert_exporter": "python",
   "pygments_lexer": "ipython3",
   "version": "3.7.4"
  }
 },
 "nbformat": 4,
 "nbformat_minor": 2
}
