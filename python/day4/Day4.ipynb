{
 "cells": [
  {
   "cell_type": "markdown",
   "metadata": {},
   "source": [
    "# 함수와 모듈"
   ]
  },
  {
   "cell_type": "markdown",
   "metadata": {},
   "source": [
    "## 디폴트 매개변수"
   ]
  },
  {
   "cell_type": "markdown",
   "metadata": {},
   "source": [
    "매개변수의 기본값을 지정해 줄 수 있다."
   ]
  },
  {
   "cell_type": "code",
   "execution_count": 4,
   "metadata": {},
   "outputs": [
    {
     "name": "stdout",
     "output_type": "stream",
     "text": [
      "My name is Chulsoo Kim.\n",
      "My name is Chulsoo Lee.\n"
     ]
    }
   ],
   "source": [
    "def printName(first, second='Lee'):\n",
    "    print('My name is', first, second + '.')\n",
    "\n",
    "# 함수호출\n",
    "printName('Chulsoo', 'Kim')\n",
    "printName('Chulsoo') # second를 지정해주지 않았을 때 -> default:'Lee'"
   ]
  },
  {
   "cell_type": "markdown",
   "metadata": {},
   "source": [
    "앞 매개변수가 디폴트값을 가질 때, \n",
    "뒤에 나타나는 매개변수는 반드시 디폴트 값을 가져야함."
   ]
  },
  {
   "cell_type": "code",
   "execution_count": 5,
   "metadata": {},
   "outputs": [
    {
     "ename": "SyntaxError",
     "evalue": "invalid character in identifier (<ipython-input-5-8143e95cc508>, line 1)",
     "output_type": "error",
     "traceback": [
      "\u001b[0;36m  File \u001b[0;32m\"<ipython-input-5-8143e95cc508>\"\u001b[0;36m, line \u001b[0;32m1\u001b[0m\n\u001b[0;31m    def printName(first, second=‘Kim’): # 정상\u001b[0m\n\u001b[0m                                    ^\u001b[0m\n\u001b[0;31mSyntaxError\u001b[0m\u001b[0;31m:\u001b[0m invalid character in identifier\n"
     ]
    }
   ],
   "source": [
    "def printName(first, second=‘Kim’): # 정상\n",
    "def printName(first=‘Kim’, second): # 에러 발생\n",
    "def printName(first, second, third=‘Kim’): # 정상\n",
    "def printName(first, second=‘Kim’, third=‘M’): # 정상"
   ]
  },
  {
   "cell_type": "markdown",
   "metadata": {},
   "source": [
    "## 키워드 매개변수"
   ]
  },
  {
   "cell_type": "markdown",
   "metadata": {},
   "source": [
    "호출할 때, 해당 매개변수가 무엇인지 명시적으로 알려주면 매개변수의 순서는 상관이 없음."
   ]
  },
  {
   "cell_type": "code",
   "execution_count": null,
   "metadata": {},
   "outputs": [],
   "source": [
    "def calc(x, y, z) :\n",
    "    return x+y+z\n",
    "result = calc(y=20, x=10, z=30) #매개변수 순서 상관 無\n",
    "print(result)"
   ]
  },
  {
   "cell_type": "code",
   "execution_count": 6,
   "metadata": {},
   "outputs": [
    {
     "data": {
      "text/plain": [
       "60"
      ]
     },
     "execution_count": 6,
     "metadata": {},
     "output_type": "execute_result"
    }
   ],
   "source": [
    "def calc(x, y=0, z=0) :\n",
    "    return x+y+z\n",
    "\n",
    "calc(y=20, x=10) # 정상\n",
    "calc(10, y=30, z=20) #정상\n",
    "# calc(10, 30, y=20) # 에러 발생"
   ]
  },
  {
   "cell_type": "markdown",
   "metadata": {},
   "source": [
    "## 반환값이 여러 개인 함수"
   ]
  },
  {
   "cell_type": "markdown",
   "metadata": {},
   "source": [
    "함수의 리턴값이 여러 개일 수 있음."
   ]
  },
  {
   "cell_type": "code",
   "execution_count": 7,
   "metadata": {},
   "outputs": [
    {
     "name": "stdout",
     "output_type": "stream",
     "text": [
      "7\n",
      "12\n"
     ]
    }
   ],
   "source": [
    "a = 3\n",
    "b= 4\n",
    "\n",
    "# 함수 정의\n",
    "def add_and_mul(a, b):\n",
    "    return (a+b, a*b)  #튜플 타입으로 리턴됨.\n",
    "\n",
    "# 함수 호출\n",
    "add_res, mul_res = add_and_mul(a,b) #언패킹\n",
    "print(add_res)\n",
    "print(mul_res)"
   ]
  },
  {
   "cell_type": "markdown",
   "metadata": {},
   "source": [
    "## 연습문제 4"
   ]
  },
  {
   "cell_type": "code",
   "execution_count": 43,
   "metadata": {
    "scrolled": true
   },
   "outputs": [
    {
     "name": "stdout",
     "output_type": "stream",
     "text": [
      "16시간 4분 54초\n"
     ]
    }
   ],
   "source": [
    "def hour_min_sec(second):\n",
    "    hour = second / 3600\n",
    "    minute = (second%3600)/60\n",
    "    sec = (second%3600)%60\n",
    "    return (int(hour), int(minute), int(sec))\n",
    "\n",
    "hour, minute, sec = hour_min_sec(57894)\n",
    "print('%d시간 %d분 %d초' % (hour, minute, sec))"
   ]
  },
  {
   "cell_type": "markdown",
   "metadata": {},
   "source": [
    "## 매개변수 종류"
   ]
  },
  {
   "cell_type": "markdown",
   "metadata": {},
   "source": [
    "### mutable 타입의 매개변수"
   ]
  },
  {
   "cell_type": "markdown",
   "metadata": {},
   "source": [
    "### mutable타입 -> call by reference"
   ]
  },
  {
   "cell_type": "code",
   "execution_count": 48,
   "metadata": {},
   "outputs": [
    {
     "name": "stdout",
     "output_type": "stream",
     "text": [
      "[1, 2, 3, 4, 5, 6]\n"
     ]
    }
   ],
   "source": [
    "t = [1, 2, 3] # 리스트, 딕셔너리\n",
    "\n",
    "def test(a):\n",
    "    a += [4, 5, 6]\n",
    "    \n",
    "test(t)\n",
    "print(t)"
   ]
  },
  {
   "cell_type": "markdown",
   "metadata": {},
   "source": [
    "### Immutable -> call by reference"
   ]
  },
  {
   "cell_type": "code",
   "execution_count": 50,
   "metadata": {},
   "outputs": [
    {
     "name": "stdout",
     "output_type": "stream",
     "text": [
      "(1, 2, 3)\n"
     ]
    }
   ],
   "source": [
    "t = (1, 2, 3) # 숫자, 문자열, 튜플\n",
    "\n",
    "def test(a):\n",
    "    a += (4, 5, 6) \n",
    "test(t)\n",
    "print(t)"
   ]
  },
  {
   "cell_type": "markdown",
   "metadata": {},
   "source": [
    "## 연습문제 5"
   ]
  },
  {
   "cell_type": "code",
   "execution_count": 54,
   "metadata": {},
   "outputs": [
    {
     "name": "stdout",
     "output_type": "stream",
     "text": [
      "1\n",
      "9\n",
      "[3, 5, 2]\n"
     ]
    }
   ],
   "source": [
    "def get_min_max(l):\n",
    "    min_val = min(l)\n",
    "    max_val = max(l)\n",
    "    l.remove(min_val)\n",
    "    l.remove(max_val)\n",
    "    return (min_val, max_val)\n",
    "\n",
    "l = [3, 5, 9, 1, 2]\n",
    "(min_val, max_val) = get_min_max(l)\n",
    "print(min_val)\n",
    "print(max_val)\n",
    "print(l)"
   ]
  },
  {
   "cell_type": "markdown",
   "metadata": {},
   "source": [
    "## 연습문제 6"
   ]
  },
  {
   "cell_type": "code",
   "execution_count": 1,
   "metadata": {},
   "outputs": [
    {
     "name": "stdout",
     "output_type": "stream",
     "text": [
      "4\n"
     ]
    }
   ],
   "source": [
    "# 내가 한 것 -> 가장 무난\n",
    "def sparseVectorDotProduct(v1, v2):\n",
    "    res = 0\n",
    "    for x in v1: # for x in v1.keys()와 동일\n",
    "        if x in v2: # if x in v1.keys()와 동일\n",
    "            res += v1[x]*v2[x]\n",
    "    return res\n",
    "\n",
    "v1={'c':3, 'b':2}\n",
    "v2={'a':3, 'b':2}\n",
    "print(sparseVectorDotProduct(v1, v2))"
   ]
  },
  {
   "cell_type": "code",
   "execution_count": 4,
   "metadata": {},
   "outputs": [
    {
     "name": "stdout",
     "output_type": "stream",
     "text": [
      "4\n"
     ]
    }
   ],
   "source": [
    "def sparseVectorDotProduct2(v1, v2):\n",
    "    res = 0\n",
    "    for k in set(v1) & set(v2): # for k in set(v1) & set(v2):\n",
    "        res += v1[k]*v2[k]\n",
    "    return res\n",
    "\n",
    "v1={'c':3, 'b':2}\n",
    "v2={'a':3, 'b':2}\n",
    "print(sparseVectorDotProduct2(v1, v2))"
   ]
  },
  {
   "cell_type": "code",
   "execution_count": 9,
   "metadata": {},
   "outputs": [
    {
     "name": "stdout",
     "output_type": "stream",
     "text": [
      "4\n"
     ]
    }
   ],
   "source": [
    "def sparseVectorDotProduct3(v1, v2):\n",
    "    res = 0\n",
    "    for k in set(v1) & set(v2): # for k in set(v1) & set(v2):\n",
    "        try:\n",
    "            res += v1[k]*v2[k]\n",
    "        except KeyError:\n",
    "            pass # 아무것도 안하고 그냥 넘어감.\n",
    "        '''\n",
    "        except:  # else와 같은 기능\n",
    "            pass\n",
    "        '''\n",
    "    return res\n",
    "\n",
    "v1={'c':3, 'b':2}\n",
    "v2={'a':3, 'b':2}\n",
    "print(sparseVectorDotProduct3(v1, v2))"
   ]
  },
  {
   "cell_type": "code",
   "execution_count": 10,
   "metadata": {},
   "outputs": [
    {
     "name": "stdout",
     "output_type": "stream",
     "text": [
      "4\n"
     ]
    }
   ],
   "source": [
    "def sparseVectorDotProduct4(v1, v2):\n",
    "    return sum([v1[k]*v2[k] for k in v1 if k in v2])\n",
    "\n",
    "v1={'c':3, 'b':2}\n",
    "v2={'a':3, 'b':2}\n",
    "print(sparseVectorDotProduct4(v1, v2))"
   ]
  },
  {
   "cell_type": "markdown",
   "metadata": {},
   "source": [
    "## 모듈"
   ]
  },
  {
   "cell_type": "markdown",
   "metadata": {},
   "source": [
    "### 난수 생성"
   ]
  },
  {
   "cell_type": "markdown",
   "metadata": {},
   "source": [
    "import random"
   ]
  },
  {
   "cell_type": "code",
   "execution_count": 22,
   "metadata": {},
   "outputs": [
    {
     "data": {
      "text/plain": [
       "'e'"
      ]
     },
     "execution_count": 22,
     "metadata": {},
     "output_type": "execute_result"
    }
   ],
   "source": [
    "import random\n",
    "#리스트에서 무작위로 선택\n",
    "random.choice('abcdefg')"
   ]
  },
  {
   "cell_type": "code",
   "execution_count": 25,
   "metadata": {},
   "outputs": [
    {
     "data": {
      "text/plain": [
       "4"
      ]
     },
     "execution_count": 25,
     "metadata": {},
     "output_type": "execute_result"
    }
   ],
   "source": [
    "# a이상 b이하의 임의의 정수 뽑기\n",
    "a = 1; b = 10\n",
    "random.randint(a,b)\n",
    "random.randrange(a,b+1)"
   ]
  },
  {
   "cell_type": "code",
   "execution_count": 29,
   "metadata": {},
   "outputs": [],
   "source": [
    "# 리스트 내용 무작위로 섞기\n",
    "random.shuffle([1,2,3,4,5]) # return 값 없음"
   ]
  },
  {
   "cell_type": "code",
   "execution_count": 30,
   "metadata": {},
   "outputs": [
    {
     "data": {
      "text/plain": [
       "[5, 4, 2]"
      ]
     },
     "execution_count": 30,
     "metadata": {},
     "output_type": "execute_result"
    }
   ],
   "source": [
    "# 리스트에서 정해진 개수만큼 무작위 뽑기\n",
    "random.sample([1, 2, 3, 4, 5, 6], 3) # 3개 샘플링"
   ]
  },
  {
   "cell_type": "markdown",
   "metadata": {},
   "source": [
    "### 연습문제7"
   ]
  },
  {
   "cell_type": "code",
   "execution_count": 41,
   "metadata": {},
   "outputs": [
    {
     "name": "stdout",
     "output_type": "stream",
     "text": [
      "로또 추첨을 시작합니다.\n",
      "추첨된 로또 번호 -->  [9, 17, 30, 31, 33, 38]\n"
     ]
    }
   ],
   "source": [
    "import random\n",
    "\n",
    "choice = random.sample(range(1,46),6) #range(1,46) -> 리스트 형태로 리턴됨!\n",
    "print(\"로또 추첨을 시작합니다.\")\n",
    "print(\"추첨된 로또 번호 --> \",sorted(choice))"
   ]
  },
  {
   "cell_type": "markdown",
   "metadata": {},
   "source": [
    "### Time 모듈"
   ]
  },
  {
   "cell_type": "markdown",
   "metadata": {},
   "source": [
    "import time"
   ]
  },
  {
   "cell_type": "code",
   "execution_count": 53,
   "metadata": {},
   "outputs": [
    {
     "data": {
      "text/plain": [
       "1579139401.8733358"
      ]
     },
     "execution_count": 53,
     "metadata": {},
     "output_type": "execute_result"
    }
   ],
   "source": [
    "import time\n",
    "time.time()"
   ]
  },
  {
   "cell_type": "code",
   "execution_count": 58,
   "metadata": {},
   "outputs": [
    {
     "data": {
      "text/plain": [
       "'date: 16th'"
      ]
     },
     "execution_count": 58,
     "metadata": {},
     "output_type": "execute_result"
    }
   ],
   "source": [
    "time.strftime('date: %dth', time.localtime())"
   ]
  },
  {
   "cell_type": "code",
   "execution_count": null,
   "metadata": {},
   "outputs": [],
   "source": []
  },
  {
   "cell_type": "markdown",
   "metadata": {},
   "source": [
    "### 연습문제 8"
   ]
  },
  {
   "cell_type": "markdown",
   "metadata": {},
   "source": [
    "1. 문장을 입력받으면 해당 문장에서 각 알파벳이 몇 개씩 나오는지 저\n",
    "장하는 딕셔너리를 반환하는 함수를 작성하시오\n",
    "2. 1. 의 함수를 통해 생성된 딕셔너리를 입력받으면, 가장 많이 등장한\n",
    "알파벳을 리턴하는 함수를 작성하시오. (여러 개일 경우 하나만 리턴\n",
    "해도 무관)"
   ]
  },
  {
   "cell_type": "code",
   "execution_count": 52,
   "metadata": {},
   "outputs": [
    {
     "name": "stdout",
     "output_type": "stream",
     "text": [
      "{'r': 1, 'e': 2, 'd': 1, ' ': 1, 'a': 1, 'p': 2, 'l': 1}\n",
      "e\n"
     ]
    }
   ],
   "source": [
    "def letter_dict(str):\n",
    "    d = {}\n",
    "    for x in str:\n",
    "        if x in d:\n",
    "            d[x] += 1\n",
    "        else:\n",
    "            d[x] = 1\n",
    "    return d\n",
    "\n",
    "def max_letter(dict):\n",
    "    m = max(dict.values())\n",
    "    res = ''\n",
    "    for k in dict:\n",
    "        if dict[k] == m:\n",
    "            res = k\n",
    "            break;\n",
    "    return res\n",
    "\n",
    "a = letter_dict('red apple')\n",
    "print(a)\n",
    "print(max_letter(a))"
   ]
  },
  {
   "cell_type": "markdown",
   "metadata": {},
   "source": [
    "### 연습문제 9"
   ]
  },
  {
   "cell_type": "code",
   "execution_count": 61,
   "metadata": {},
   "outputs": [
    {
     "name": "stdout",
     "output_type": "stream",
     "text": [
      "{'r': 1, 'e': 3, 'd': 1, ' ': 2, 'a': 4, 'p': 2, 'l': 3, 'y': 1, 'o': 1, 'w': 1, 'b': 1, 'n': 2}\n",
      "a\n"
     ]
    }
   ],
   "source": [
    "def comb_dict (dict1, dict2):\n",
    "    d = {}\n",
    "    for x in dict1:\n",
    "        d[x] = dict1[x]\n",
    "    for y in dict2:\n",
    "        if y in d:\n",
    "            d[y] += dict2[y]\n",
    "        else:\n",
    "            d[y] = dict2[y]\n",
    "    return d\n",
    "\n",
    "b = letter_dict('yellow banana')\n",
    "c = comb_dict(a, b)\n",
    "print(c)\n",
    "print(max_letter(c))"
   ]
  },
  {
   "cell_type": "markdown",
   "metadata": {},
   "source": [
    "# OOP & Numpy"
   ]
  },
  {
   "cell_type": "markdown",
   "metadata": {},
   "source": [
    "OOP : 객체 지향 프로그래밍 (Object-Oriented Programming:OOP)"
   ]
  },
  {
   "cell_type": "markdown",
   "metadata": {},
   "source": [
    "## 클래스(class)\n",
    "    객체 생성을 위함"
   ]
  },
  {
   "cell_type": "code",
   "execution_count": 63,
   "metadata": {},
   "outputs": [],
   "source": [
    "class Account:\n",
    "    # 계좌의 속성(Attribute)\n",
    "    number = 'OOOO-OOO-OOOOOO'\n",
    "    balance = 0\n",
    "    rate = 1.0\n",
    "    \n",
    "    # 계좌의 기능(Method)\n",
    "    def deposit(self, money): #입금\n",
    "        self.balance += money # self.balance = balance(클래스 변수) + money\n",
    "    def withdraw(self, money): #인출\n",
    "        self.balance -= money\n",
    "    def obtain_interest(self): #이자 획득\n",
    "        self.balance += self.balance*(self.rate/100)"
   ]
  },
  {
   "cell_type": "markdown",
   "metadata": {},
   "source": [
    "## 인스턴스(Instance)"
   ]
  },
  {
   "cell_type": "code",
   "execution_count": 70,
   "metadata": {},
   "outputs": [
    {
     "name": "stdout",
     "output_type": "stream",
     "text": [
      "1000\n",
      "1000\n",
      "0\n"
     ]
    }
   ],
   "source": [
    "acc1 = Account()\n",
    "acc2 = Account()\n",
    "acc3 = Account()\n",
    "\n",
    "acc1.deposit(500) # == Account.deposit(acc1, 500)\n",
    "Account.deposit(acc1, 500)\n",
    "acc2.deposit(1000)\n",
    "print(acc1.balance)\n",
    "print(acc2.balance)\n",
    "print(acc3.balance)"
   ]
  },
  {
   "cell_type": "markdown",
   "metadata": {},
   "source": [
    "## 생성자 (Constructor)"
   ]
  },
  {
   "cell_type": "markdown",
   "metadata": {},
   "source": [
    "없어도 문제가 되지 않음 -> default 생성자 존재\n",
    "* 함수의 제일 앞에 존재\n",
    "* 생성자 없는 것과 있는 것의 차이? 변수를 통해 attribute 변경이 가능함"
   ]
  },
  {
   "cell_type": "code",
   "execution_count": 66,
   "metadata": {},
   "outputs": [],
   "source": [
    "class Account:\n",
    "''' '''\n",
    "# def __init__(self): Default 생성자\n",
    "    def __init__(self, num='OOO-OOO-OOOOO', amnt=0, rate=1.0):\n",
    "        self.number = num\n",
    "        self.balance = amnt\n",
    "        self.rate = rate"
   ]
  },
  {
   "cell_type": "code",
   "execution_count": 67,
   "metadata": {},
   "outputs": [],
   "source": [
    "acc1 = Account()\n",
    "acc2 = Account(rate=1.5, amnt = 1) #생성자(__init__)가 있어서 가능함."
   ]
  },
  {
   "cell_type": "markdown",
   "metadata": {},
   "source": [
    "## 정적 변수 (Static Variable)"
   ]
  },
  {
   "cell_type": "markdown",
   "metadata": {},
   "source": [
    "모든 인스턴스가 공유하는 변수 (클래스 변수)"
   ]
  },
  {
   "cell_type": "code",
   "execution_count": null,
   "metadata": {},
   "outputs": [],
   "source": [
    "class Account:\n",
    "    ...\n",
    "    num_acc = 0\n",
    "def __init__(...):\n",
    "    ...\n",
    "    Account.num_acc += 1 #Account의 클래스 변수 값 변경"
   ]
  },
  {
   "cell_type": "markdown",
   "metadata": {},
   "source": [
    "## 상속"
   ]
  },
  {
   "cell_type": "code",
   "execution_count": null,
   "metadata": {},
   "outputs": [],
   "source": [
    "class MinBalanceAccount(Account): #Account 클래스를 상속받음\n",
    "    def __init__(self, min_balance, num='OOOO-OOO-OOOOO',amnt=0, rate=1.0):\n",
    "        #Account 클래스의 생성자 호출\n",
    "        Account.__init__(self, num=num, amnt=amnt,rate=rate) #num(init매개변수) = '000-000 ...'\n",
    "        self.minimum_balance = min_balance\n",
    "        self.bonus_rate = 1.0"
   ]
  },
  {
   "cell_type": "markdown",
   "metadata": {},
   "source": [
    "## 다형성 (Polymorphism)"
   ]
  },
  {
   "cell_type": "markdown",
   "metadata": {},
   "source": [
    "* 상위 클래스의 메소드를 하위 클래스에서 재정의\n",
    "* 하위 클래스에서 상위클래스 메소드와 동일한 이름의 메소드를 재정의 "
   ]
  },
  {
   "cell_type": "markdown",
   "metadata": {},
   "source": [
    "### 오버라이딩"
   ]
  },
  {
   "cell_type": "code",
   "execution_count": null,
   "metadata": {},
   "outputs": [],
   "source": [
    "class MinBalanceAccount(Account):\n",
    "''' '''\n",
    "    def withdraw(self, amnt): # 인출 기능 수정\n",
    "        if self.balance - amnt < self.minimum_balance:\n",
    "            print('Sorry, minimum balance must be maintained')\n",
    "        else:\n",
    "            Account.withdraw(self, amnt) # self : 객체를 의미\n",
    "    def obtain_interest(self): #보너스 이율 반영\n",
    "        self.balance += (self.balance)*((self.rate+self.bonus_rate)/100.0)"
   ]
  },
  {
   "cell_type": "markdown",
   "metadata": {},
   "source": [
    "### 연산자 오버로딩"
   ]
  },
  {
   "cell_type": "code",
   "execution_count": null,
   "metadata": {},
   "outputs": [],
   "source": [
    "class Account:\n",
    "''' '''\n",
    "    def __add__(self, another): #두 계좌 통합 기능 ,  __함수명__ : 파이썬에서 미리 정의한 함수명\n",
    "        new_acc=Account(amnt=self.balance+another.balance,rate=self.rate)\n",
    "        return new_acc"
   ]
  },
  {
   "cell_type": "code",
   "execution_count": null,
   "metadata": {},
   "outputs": [],
   "source": []
  },
  {
   "cell_type": "markdown",
   "metadata": {},
   "source": [
    "## 연습문제 1"
   ]
  },
  {
   "cell_type": "code",
   "execution_count": 108,
   "metadata": {},
   "outputs": [
    {
     "name": "stdout",
     "output_type": "stream",
     "text": [
      "Sorry, minimum balance must be maintained\n",
      "500\n",
      "1000\n"
     ]
    }
   ],
   "source": [
    "class Account:\n",
    "    num_acc = 0 # 클래스의 변수\n",
    "    # 계좌의 속성(Attribute)\n",
    "    def __init__(self, num='OOO-OOO-OOOOO', amnt=0, rate=1.0):\n",
    "        self.number = num  #self.__ : 인스턴스의 변수\n",
    "        self.balance = amnt\n",
    "        self.rate = rate\n",
    "        Account.num_acc += 1\n",
    "    # 계좌의 기능(Method)\n",
    "    def deposit(self, money): #입금\n",
    "        self.balance += money\n",
    "    def withdraw(self, money): #인출\n",
    "        self.balance -= money\n",
    "    def obtain_interest(self): #이자 획득\n",
    "        self.balance += self.balance*(self.rate/100)\n",
    "    \n",
    "    def __add__(self, another): #두 계좌 통합 기능 ,  __함수명__ : 파이썬에서 미리 정의한 함수명\n",
    "        new_acc=Account(amnt=self.balance+another.balance,rate=self.rate)\n",
    "        return new_acc\n",
    "    def __repr__(self):\n",
    "        return str(self.balance)\n",
    "    \n",
    "    def get_balance(self):\n",
    "        return self.balance\n",
    "    def set_balance(self, amnt):\n",
    "        self.balance = amnt\n",
    "        \n",
    "    def transfer(self, another, amnt):\n",
    "#         self.balance -= amnt\n",
    "#         another.balance += amnt\n",
    "        a = self.balance\n",
    "        self.withdraw(amnt)  # self가 Account클래스인지 Min..class인지에 따라 withdraw 결과가 달라짐 \n",
    "        if a != self.balance:\n",
    "            another.deposit(amnt)\n",
    "\n",
    "class MinBalanceAccount(Account): #Account 클래스를 상속받음\n",
    "    def __init__(self, min_balance, num='OOOO-OOO-OOOOO',amnt=0, rate=1.0):\n",
    "        #Account 클래스의 생성자 호출\n",
    "        Account.__init__(self, num=num, amnt=amnt,rate=rate) #num(init매개변수) = '000-000 ...'\n",
    "        self.minimum_balance = min_balance\n",
    "        self.bonus_rate = 1.0\n",
    "        \n",
    "    def withdraw(self, amnt): # 인출 기능 수정\n",
    "        if self.balance - amnt < self.minimum_balance:\n",
    "            print('Sorry, minimum balance must be maintained')\n",
    "        else:\n",
    "            Account.withdraw(self, amnt) # self : 객체를 의미\n",
    "            \n",
    "    def obtain_interest(self): #보너스 이율 반영\n",
    "        self.balance += (self.balance)*((self.rate+self.bonus_rate)/100.0)\n",
    "    \n",
    "# acc1 = Account()\n",
    "# acc2 = Account()\n",
    "# acc3 = Account()\n",
    "# print(acc1.num_acc) # 3\n",
    "# print(Account.num_acc) # 3\n",
    "\n",
    "acc1= MinBalanceAccount(min_balance=500)\n",
    "# acc1= Account()\n",
    "acc1.set_balance(500)\n",
    "acc2= Account()\n",
    "acc2.set_balance(1000)\n",
    "acc1.transfer(acc2, 100) # acc1에서 acc2로 100원\n",
    "print(acc1.get_balance()) # 400\n",
    "print(acc2.get_balance()) # 1100"
   ]
  },
  {
   "cell_type": "markdown",
   "metadata": {},
   "source": [
    "## 과제실습 4 (Pythonic Code)"
   ]
  },
  {
   "cell_type": "code",
   "execution_count": 112,
   "metadata": {},
   "outputs": [
    {
     "name": "stdout",
     "output_type": "stream",
     "text": [
      "{'one': 1, 'two': 2, 'three': 3, 'four': 4}\n"
     ]
    }
   ],
   "source": [
    "L1 = ['one', 'two', 'three', 'four']\n",
    "L2 = [1, 2, 3, 4]\n",
    "\n",
    "d = {k:v for k, v in zip(L1,L2)}\n",
    "print(d)"
   ]
  },
  {
   "cell_type": "code",
   "execution_count": null,
   "metadata": {},
   "outputs": [],
   "source": []
  },
  {
   "cell_type": "code",
   "execution_count": null,
   "metadata": {},
   "outputs": [],
   "source": []
  }
 ],
 "metadata": {
  "kernelspec": {
   "display_name": "Python 3",
   "language": "python",
   "name": "python3"
  },
  "language_info": {
   "codemirror_mode": {
    "name": "ipython",
    "version": 3
   },
   "file_extension": ".py",
   "mimetype": "text/x-python",
   "name": "python",
   "nbconvert_exporter": "python",
   "pygments_lexer": "ipython3",
   "version": "3.7.4"
  }
 },
 "nbformat": 4,
 "nbformat_minor": 2
}
